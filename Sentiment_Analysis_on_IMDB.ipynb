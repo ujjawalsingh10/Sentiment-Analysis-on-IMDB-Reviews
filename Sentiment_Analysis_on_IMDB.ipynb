{
  "cells": [
    {
      "cell_type": "markdown",
      "metadata": {
        "id": "view-in-github",
        "colab_type": "text"
      },
      "source": [
        "<a href=\"https://colab.research.google.com/github/ujjawalsingh10/Sentiment-Analysis-on-IMDB-Reviews/blob/main/Sentiment_Analysis_on_IMDB.ipynb\" target=\"_parent\"><img src=\"https://colab.research.google.com/assets/colab-badge.svg\" alt=\"Open In Colab\"/></a>"
      ]
    },
    {
      "cell_type": "code",
      "execution_count": 23,
      "metadata": {
        "id": "otSSeXgcfylg"
      },
      "outputs": [],
      "source": [
        "import tensorflow as tf\n",
        "import numpy as np\n",
        "import matplotlib.pyplot as plt\n",
        "import tensorflow_datasets as tfds\n",
        "from tensorflow.keras.losses import BinaryCrossentropy\n",
        "from tensorflow.keras.optimizers import Adam\n",
        "from tensorflow.keras.metrics import Accuracy\n",
        "from tensorflow.keras.layers import InputLayer, MaxPool2D, Dense, Conv2D, Conv1D, Flatten, BatchNormalization, TextVectorization,SimpleRNN, Embedding, Input,Bidirectional, LSTM, Dropout, GRU\n",
        "from google.colab import drive\n",
        "import re\n",
        "import string\n",
        "from numpy import random"
      ]
    },
    {
      "cell_type": "code",
      "execution_count": 2,
      "metadata": {
        "colab": {
          "base_uri": "https://localhost:8080/",
          "height": 116,
          "referenced_widgets": [
            "d502edcd48ab4344a0e8f69b939debca",
            "72cff559a89e4e218f4f06df69a66d9f",
            "d08c489175c241648a8e78dab0348f3c",
            "54932812359f49ba84e2b3521ccf9fc4",
            "ba368d2317c04768b88c971a37fe1f33",
            "cac69c85527f4a32ba00bc41105dd760",
            "08eac8cc9b32463bbcbfb194661bf4a9",
            "22664a1616aa4e8aa7b766e298e963aa",
            "401d42c20cd841459df69ea25f95a612",
            "7aa75765e406447ea2ec45952e02a28b",
            "eb95973fc22d4fcd922f89858c78b73b",
            "e6fde900f49744d49fb2126a578e9806",
            "de98c22ce2f84815a961723634d14ef8",
            "c45c45b0ccf94a6a8d2e767d46e25556",
            "4aa8400e1e9148bf95c73cf05a9b49cc",
            "102d008c737c4f9faa042165bf381e0a",
            "59cdde5f5a86469da8049c801c657ea6",
            "c0be8827755d40edb9a9fecac5002eb4",
            "29245828ded34f8db6eace94a504bea4",
            "85edf662d1d342f7a33f8ccb8b3e76ed",
            "33e34a558d4541bd808c46e634e57df5",
            "f49373348bbc4dc49c741de6171fb772",
            "f7c0041c08454db5910377412b220215",
            "20ddf9b42f9541aa8ac70b1e5d5cba68",
            "ced82c71bf364d36a6149616c76ad094",
            "1eaf228ef6394916af1b4f95074765c1",
            "c4320fc55b8b444481c3bd8b34247854",
            "f7891b76862843f18b35ccaae8753f1e",
            "c558b14c606f46e2a4ed644116a2c337",
            "7662aa37ba7740f3bb08fd4a01a934cb",
            "505880afdf72417c9e09138f770ce1d0",
            "30891bcbb64943388052a1105fb1ad72",
            "e87eb38e76ca43c2b85285cfd76fe48d",
            "2a179ad5c6db4d30b0626619855c14ce",
            "9001728cea8c4dfba4a1df28dd10a67a",
            "27c6858fff684790b5b069c12839b198",
            "dea6285fc55d40baa92d4d8d88c0fc76",
            "51bb76f6987346179d624bbfa4a6bf53",
            "43e442e373f24ee98cbf423b356b344e",
            "34be2241cb1049b99fcc42511c7c49d4",
            "400ab3bf4b9043168797291b7fb89171",
            "3cdca7f9313f4718a1a2000ccdf7c707",
            "b8f686b7bdbf4268b0dfbc6c36f69997",
            "33ee89093a3447dbb5b2f594378d1fa2",
            "4349570daf4142ea9647e802d6ea6519",
            "05d25c3422014c07983010c2d0ba35f4",
            "3359feedb4bc453fbe393b7f093d3bed",
            "c992759789c14e1c877e07129ed85e91",
            "c7ff01b16935476d8d3227deb67eb0d5",
            "e21f1375446e4c16b27826f916f8e981",
            "b9f11ee8232e4fa68846f77676bd1b80",
            "6a597cd96d4041b3868a109e12f9bb2c",
            "f049bfed80634f11ae18c0e944382060",
            "944bbd4140fb4977b85b7a009cd8ab9c",
            "1ee096f0fa784996aca08ae6d0321698",
            "31c04265cf014f29ab4003bbba7ef2c4",
            "acb803e04c2a4921976dc3f68f49a772",
            "eaaf6e24fc17445c849e2f008b9e6db3",
            "1d4bb4ed852c4fa19369e601a3bad432",
            "28c16a89330947ebbf55fca87c275ec9",
            "3c16a7aa977f4366bf295fe9de5043dc",
            "4ee7c0b03abf4924acff3e382ac6c5df",
            "fac56318874b493db0bb062b90bd570d",
            "ed58fa8676384b6f8c13ef90fa517097",
            "3c738932944143e8ab54c641f5675da6",
            "c7502b189a9449ae9a30d6bc4561d62e",
            "5ea69b991fab40a0b658f211112f894d",
            "a329181f42dc40a2b5280ab4a7cf9551",
            "5cee9f5ef0964461a42e48b884c7432b",
            "b5d4dec1c3e54cd991dbf256073bd7ab",
            "2c26f168c6fe4ad0a744162f7b655609",
            "9a3090cdf234483b87f4138cc200a887",
            "4e038c5e74dd4764a7a2fe1aa8aebec6",
            "e1c3474717c543278e2783d69019d1e3",
            "99f06778037641a293f35d2b6ea1dab7",
            "5ca8a116a19e4cdbbe126336c9a3c8b8",
            "73f0f69c7ba84bfb9e2f5aaad8c5477d",
            "88268e401c524af38a9a3249f166cab3",
            "eec53441e3f74a4b93c678f4f4279629",
            "42bb21e415e849b185126127318b47ff",
            "628f15253500425883c9352a8e470e9f",
            "9df6a98da22b42fca95a6e775628a80e",
            "a8b10947709d4a6784f8036c3bd691fb",
            "e34b4b41f79748e1a638b934e148bc93",
            "fac90e6346cd4636b1efdceec8b18852",
            "9c51fe8951754ce39f7bd050fb04f699",
            "d60dc1bcd6ed4262ab9e339aeec13dde",
            "ad420ebf8d014c42b82e8f1ec916a393",
            "71cbe8b799c4424dad7c29f626ec7018",
            "183a7270c7af486f93f16fbf4fbef440",
            "cc9b26829cbf4d1b87b989908aa8a17d",
            "bd1db6edcf6d454b955476a9af5e68dc",
            "5498edb5cfbb4da79f24ea22e2aa6d1c",
            "7312b5a8252a4f06aed61d806820f6b5",
            "0cdb4914fa81415aa9ace09367f86678",
            "f8acd82ce800443cbad84d95fb6b2cb8",
            "566de398cf3247c9a47d8f2cf8acaba3",
            "91c38d1c782e4ca68e28ae247d0e7811",
            "e4efc424b5cd4d1f890ab6f72c97152e"
          ]
        },
        "id": "FNam5J5MgSuo",
        "outputId": "c900d5be-0ce8-438b-9f17-98fb9525e56b"
      },
      "outputs": [
        {
          "output_type": "stream",
          "name": "stdout",
          "text": [
            "Downloading and preparing dataset 80.23 MiB (download: 80.23 MiB, generated: Unknown size, total: 80.23 MiB) to /root/tensorflow_datasets/imdb_reviews/plain_text/1.0.0...\n"
          ]
        },
        {
          "output_type": "display_data",
          "data": {
            "text/plain": [
              "Dl Completed...: 0 url [00:00, ? url/s]"
            ],
            "application/vnd.jupyter.widget-view+json": {
              "version_major": 2,
              "version_minor": 0,
              "model_id": "d502edcd48ab4344a0e8f69b939debca"
            }
          },
          "metadata": {}
        },
        {
          "output_type": "display_data",
          "data": {
            "text/plain": [
              "Dl Size...: 0 MiB [00:00, ? MiB/s]"
            ],
            "application/vnd.jupyter.widget-view+json": {
              "version_major": 2,
              "version_minor": 0,
              "model_id": "e6fde900f49744d49fb2126a578e9806"
            }
          },
          "metadata": {}
        },
        {
          "output_type": "display_data",
          "data": {
            "text/plain": [
              "Generating splits...:   0%|          | 0/3 [00:00<?, ? splits/s]"
            ],
            "application/vnd.jupyter.widget-view+json": {
              "version_major": 2,
              "version_minor": 0,
              "model_id": "f7c0041c08454db5910377412b220215"
            }
          },
          "metadata": {}
        },
        {
          "output_type": "display_data",
          "data": {
            "text/plain": [
              "Generating train examples...:   0%|          | 0/25000 [00:00<?, ? examples/s]"
            ],
            "application/vnd.jupyter.widget-view+json": {
              "version_major": 2,
              "version_minor": 0,
              "model_id": "2a179ad5c6db4d30b0626619855c14ce"
            }
          },
          "metadata": {}
        },
        {
          "output_type": "display_data",
          "data": {
            "text/plain": [
              "Shuffling /root/tensorflow_datasets/imdb_reviews/plain_text/1.0.0.incompleteA53K9O/imdb_reviews-train.tfrecord…"
            ],
            "application/vnd.jupyter.widget-view+json": {
              "version_major": 2,
              "version_minor": 0,
              "model_id": "4349570daf4142ea9647e802d6ea6519"
            }
          },
          "metadata": {}
        },
        {
          "output_type": "display_data",
          "data": {
            "text/plain": [
              "Generating test examples...:   0%|          | 0/25000 [00:00<?, ? examples/s]"
            ],
            "application/vnd.jupyter.widget-view+json": {
              "version_major": 2,
              "version_minor": 0,
              "model_id": "31c04265cf014f29ab4003bbba7ef2c4"
            }
          },
          "metadata": {}
        },
        {
          "output_type": "display_data",
          "data": {
            "text/plain": [
              "Shuffling /root/tensorflow_datasets/imdb_reviews/plain_text/1.0.0.incompleteA53K9O/imdb_reviews-test.tfrecord*…"
            ],
            "application/vnd.jupyter.widget-view+json": {
              "version_major": 2,
              "version_minor": 0,
              "model_id": "5ea69b991fab40a0b658f211112f894d"
            }
          },
          "metadata": {}
        },
        {
          "output_type": "display_data",
          "data": {
            "text/plain": [
              "Generating unsupervised examples...:   0%|          | 0/50000 [00:00<?, ? examples/s]"
            ],
            "application/vnd.jupyter.widget-view+json": {
              "version_major": 2,
              "version_minor": 0,
              "model_id": "88268e401c524af38a9a3249f166cab3"
            }
          },
          "metadata": {}
        },
        {
          "output_type": "display_data",
          "data": {
            "text/plain": [
              "Shuffling /root/tensorflow_datasets/imdb_reviews/plain_text/1.0.0.incompleteA53K9O/imdb_reviews-unsupervised.t…"
            ],
            "application/vnd.jupyter.widget-view+json": {
              "version_major": 2,
              "version_minor": 0,
              "model_id": "71cbe8b799c4424dad7c29f626ec7018"
            }
          },
          "metadata": {}
        },
        {
          "output_type": "stream",
          "name": "stdout",
          "text": [
            "Dataset imdb_reviews downloaded and prepared to /root/tensorflow_datasets/imdb_reviews/plain_text/1.0.0. Subsequent calls will reuse this data.\n"
          ]
        }
      ],
      "source": [
        "train_ds, val_ds, test_ds = tfds.load('imdb_reviews', split = ['train', 'test[:50%]', 'test[50%:]'], as_supervised = True)"
      ]
    },
    {
      "cell_type": "code",
      "execution_count": 3,
      "metadata": {
        "id": "X6drPrBDg_Rt",
        "colab": {
          "base_uri": "https://localhost:8080/"
        },
        "outputId": "dd688679-a83e-4c31-cff0-c6fdfe07cfc3"
      },
      "outputs": [
        {
          "output_type": "execute_result",
          "data": {
            "text/plain": [
              "<_PrefetchDataset element_spec=(TensorSpec(shape=(), dtype=tf.string, name=None), TensorSpec(shape=(), dtype=tf.int64, name=None))>"
            ]
          },
          "metadata": {},
          "execution_count": 3
        }
      ],
      "source": [
        "train_ds"
      ]
    },
    {
      "cell_type": "code",
      "execution_count": 4,
      "metadata": {
        "id": "b7xFCyLwhWfI",
        "colab": {
          "base_uri": "https://localhost:8080/"
        },
        "outputId": "08fe4b43-5d15-4856-f439-279e5ee323fa"
      },
      "outputs": [
        {
          "output_type": "stream",
          "name": "stdout",
          "text": [
            "Review: b\"This was an absolutely terrible movie. Don't be lured in by Christopher Walken or Michael Ironside. Both are great actors, but this must simply be their worst role in history. Even their great acting could not redeem this movie's ridiculous storyline. This movie is an early nineties US propaganda piece. The most pathetic scenes were those when the Columbian rebels were making their cases for revolutions. Maria Conchita Alonso appeared phony, and her pseudo-love affair with Walken was nothing but a pathetic emotional plug in a movie that was devoid of any real meaning. I am disappointed that there are movies like this, ruining actor's like Christopher Walken's good name. I could barely sit through it.\"\n",
            "Sentiment: 0\n",
            "Review: b'I have been known to fall asleep during films, but this is usually due to a combination of things including, really tired, being warm and comfortable on the sette and having just eaten a lot. However on this occasion I fell asleep because the film was rubbish. The plot development was constant. Constantly slow and boring. Things seemed to happen, but with no explanation of what was causing them or why. I admit, I may have missed part of the film, but i watched the majority of it and everything just seemed to happen of its own accord without any real concern for anything else. I cant recommend this film at all.'\n",
            "Sentiment: 0\n"
          ]
        }
      ],
      "source": [
        "for review, label in train_ds.take(2):\n",
        "  print(f'Review: {review}')\n",
        "  print(f'Sentiment: {label}')"
      ]
    },
    {
      "cell_type": "markdown",
      "metadata": {
        "id": "8wCBcdAokcOF"
      },
      "source": [
        "### Standardization"
      ]
    },
    {
      "cell_type": "code",
      "execution_count": 5,
      "metadata": {
        "id": "kC6Epe88hnFa"
      },
      "outputs": [],
      "source": [
        "def standardization(input_data):\n",
        "  '''\n",
        "  Input: raw reviews\n",
        "  output: standarized reviews\n",
        "  '''\n",
        "  lower_case = tf.strings.lower(input_data) ##Lower casing the text\n",
        "  no_tag = tf.strings.regex_replace(lower_case, \"<[^>]+>\", '') ## replace the html text with empty string\n",
        "  output = tf.strings.regex_replace(no_tag, \"[%s]\"%re.escape(string.punctuation), '')\n",
        "  return output\n"
      ]
    },
    {
      "cell_type": "markdown",
      "metadata": {
        "id": "0mEIdarFSIOx"
      },
      "source": [
        "#### Vectorization\n",
        "- tokenizer and numericalizer"
      ]
    },
    {
      "cell_type": "code",
      "execution_count": 6,
      "metadata": {
        "id": "vtxuLmZRq5-6"
      },
      "outputs": [],
      "source": [
        "VOCAB_SIZE = 10000 ##We wanna take 10000 first most important words\n",
        "SEQUENCE_LENGTH = 250  ## Pads to increase the size"
      ]
    },
    {
      "cell_type": "code",
      "execution_count": 7,
      "metadata": {
        "id": "RKFQHCV9q2X4"
      },
      "outputs": [],
      "source": [
        "## This does tokenization as well and turns them into numbers\n",
        "vectorize_layer = TextVectorization(\n",
        "    standardize = standardization, ### Can do the lower_and_strip as well,\n",
        "    max_tokens = VOCAB_SIZE,\n",
        "    output_mode = 'int',\n",
        "    output_sequence_length = SEQUENCE_LENGTH\n",
        ")"
      ]
    },
    {
      "cell_type": "code",
      "execution_count": 8,
      "metadata": {
        "id": "8EYVsa6YyYel"
      },
      "outputs": [],
      "source": [
        "#This is to get more accurate valuess for vocab size and sequence length without guesssing\n",
        "# lengths = []\n",
        "# words = []\n",
        "\n",
        "# ### To get the unique words in the dataset\n",
        "# for review, label in train_ds.take(100):\n",
        "#   # for word in tf.strings.split(review, sep =' '):\n",
        "#   #   if word in words:\n",
        "#   #     pass\n",
        "#   #   else:\n",
        "#   #     words.append(word)\n",
        "#   lengths.append(len(tf.strings.split(review, sep = ' ')))  ## To get the total no of words in a sentence\n"
      ]
    },
    {
      "cell_type": "code",
      "execution_count": 9,
      "metadata": {
        "id": "ogsVjBgUTRPA"
      },
      "outputs": [],
      "source": [
        "# print(len(words))\n",
        "# print(lengths)  ## total no of words in each review paras"
      ]
    },
    {
      "cell_type": "code",
      "execution_count": 10,
      "metadata": {
        "id": "FJYloXg6TodK"
      },
      "outputs": [],
      "source": [
        "#np.mean(lengths) ## So we can change the sequence length to average of the review lengths"
      ]
    },
    {
      "cell_type": "code",
      "execution_count": 11,
      "metadata": {
        "id": "_EV3rzY8W9JD"
      },
      "outputs": [],
      "source": [
        "### Adapting to the training data is required for the vectorizer layer"
      ]
    },
    {
      "cell_type": "code",
      "execution_count": 12,
      "metadata": {
        "id": "1QPSIYMbY8xW"
      },
      "outputs": [],
      "source": [
        "training_data = train_ds.map(lambda x,y:x)  ### input x and y and ouput only x\n",
        "vectorize_layer.adapt(training_data) ### adapt the vectorize_layer to the training data"
      ]
    },
    {
      "cell_type": "code",
      "execution_count": 13,
      "metadata": {
        "id": "njOeu1Hzkp-B",
        "colab": {
          "base_uri": "https://localhost:8080/"
        },
        "outputId": "77f7e594-2e38-4830-86af-8af7617bed42"
      },
      "outputs": [
        {
          "output_type": "execute_result",
          "data": {
            "text/plain": [
              "['',\n",
              " '[UNK]',\n",
              " 'the',\n",
              " 'and',\n",
              " 'a',\n",
              " 'of',\n",
              " 'to',\n",
              " 'is',\n",
              " 'in',\n",
              " 'it',\n",
              " 'this',\n",
              " 'i',\n",
              " 'that',\n",
              " 'was',\n",
              " 'as',\n",
              " 'with',\n",
              " 'for',\n",
              " 'movie',\n",
              " 'but',\n",
              " 'film',\n",
              " 'on',\n",
              " 'not',\n",
              " 'are',\n",
              " 'you',\n",
              " 'his',\n",
              " 'have',\n",
              " 'be',\n",
              " 'he',\n",
              " 'one',\n",
              " 'its',\n",
              " 'at',\n",
              " 'all',\n",
              " 'by',\n",
              " 'an',\n",
              " 'they',\n",
              " 'who',\n",
              " 'from',\n",
              " 'like',\n",
              " 'so',\n",
              " 'her',\n",
              " 'or',\n",
              " 'just',\n",
              " 'about',\n",
              " 'has',\n",
              " 'out',\n",
              " 'if',\n",
              " 'some',\n",
              " 'what',\n",
              " 'there',\n",
              " 'good',\n",
              " 'more',\n",
              " 'very',\n",
              " 'when',\n",
              " 'she',\n",
              " 'even',\n",
              " 'up',\n",
              " 'no',\n",
              " 'would',\n",
              " 'my',\n",
              " 'which',\n",
              " 'only',\n",
              " 'time',\n",
              " 'really',\n",
              " 'story',\n",
              " 'their',\n",
              " 'were',\n",
              " 'had',\n",
              " 'see',\n",
              " 'can',\n",
              " 'me',\n",
              " 'than',\n",
              " 'we',\n",
              " 'much',\n",
              " 'been',\n",
              " 'get',\n",
              " 'well',\n",
              " 'will',\n",
              " 'into',\n",
              " 'because',\n",
              " 'people',\n",
              " 'other',\n",
              " 'also',\n",
              " 'do',\n",
              " 'bad',\n",
              " 'great',\n",
              " 'how',\n",
              " 'first',\n",
              " 'most',\n",
              " 'him',\n",
              " 'dont',\n",
              " 'made',\n",
              " 'movies',\n",
              " 'then',\n",
              " 'films',\n",
              " 'make',\n",
              " 'could',\n",
              " 'way',\n",
              " 'them',\n",
              " 'any',\n",
              " 'too',\n",
              " 'after',\n",
              " 'characters',\n",
              " 'think',\n",
              " 'watch',\n",
              " 'two',\n",
              " 'many',\n",
              " 'being',\n",
              " 'seen',\n",
              " 'character',\n",
              " 'never',\n",
              " 'little',\n",
              " 'acting',\n",
              " 'plot',\n",
              " 'where',\n",
              " 'best',\n",
              " 'love',\n",
              " 'did',\n",
              " 'know',\n",
              " 'life',\n",
              " 'show',\n",
              " 'does',\n",
              " 'ever',\n",
              " 'your',\n",
              " 'better',\n",
              " 'over',\n",
              " 'still',\n",
              " 'off',\n",
              " 'end',\n",
              " 'these',\n",
              " 'say',\n",
              " 'man',\n",
              " 'here',\n",
              " 'scene',\n",
              " 'why',\n",
              " 'such',\n",
              " 'scenes',\n",
              " 'while',\n",
              " 'go',\n",
              " 'should',\n",
              " 'something',\n",
              " 'through',\n",
              " 'back',\n",
              " 'those',\n",
              " 'im',\n",
              " 'doesnt',\n",
              " 'real',\n",
              " 'watching',\n",
              " 'years',\n",
              " 'thing',\n",
              " 'actors',\n",
              " 'though',\n",
              " 'didnt',\n",
              " 'new',\n",
              " 'actually',\n",
              " 'makes',\n",
              " 'before',\n",
              " 'nothing',\n",
              " 'now',\n",
              " 'find',\n",
              " 'another',\n",
              " 'work',\n",
              " 'funny',\n",
              " 'few',\n",
              " 'look',\n",
              " 'old',\n",
              " 'going',\n",
              " 'same',\n",
              " 'lot',\n",
              " 'every',\n",
              " 'us',\n",
              " 'part',\n",
              " 'again',\n",
              " 'cant',\n",
              " 'director',\n",
              " 'quite',\n",
              " 'cast',\n",
              " 'want',\n",
              " 'thats',\n",
              " 'pretty',\n",
              " 'things',\n",
              " 'seems',\n",
              " 'young',\n",
              " 'got',\n",
              " 'around',\n",
              " 'fact',\n",
              " 'down',\n",
              " 'world',\n",
              " 'take',\n",
              " 'enough',\n",
              " 'between',\n",
              " 'give',\n",
              " 'may',\n",
              " 'both',\n",
              " 'big',\n",
              " 'horror',\n",
              " 'thought',\n",
              " 'original',\n",
              " 'own',\n",
              " 'however',\n",
              " 'ive',\n",
              " 'without',\n",
              " 'gets',\n",
              " 'always',\n",
              " 'series',\n",
              " 'right',\n",
              " 'isnt',\n",
              " 'long',\n",
              " 'saw',\n",
              " 'come',\n",
              " 'almost',\n",
              " 'times',\n",
              " 'least',\n",
              " 'role',\n",
              " 'point',\n",
              " 'action',\n",
              " 'must',\n",
              " 'whole',\n",
              " 'interesting',\n",
              " 'bit',\n",
              " 'comedy',\n",
              " 'family',\n",
              " 'theres',\n",
              " 'done',\n",
              " 'music',\n",
              " 'script',\n",
              " 'anything',\n",
              " 'might',\n",
              " 'last',\n",
              " 'hes',\n",
              " 'guy',\n",
              " 'feel',\n",
              " 'minutes',\n",
              " 'far',\n",
              " 'since',\n",
              " 'probably',\n",
              " 'performance',\n",
              " 'am',\n",
              " 'kind',\n",
              " 'rather',\n",
              " 'worst',\n",
              " 'away',\n",
              " 'yet',\n",
              " 'sure',\n",
              " 'tv',\n",
              " 'woman',\n",
              " 'making',\n",
              " 'girl',\n",
              " 'each',\n",
              " 'found',\n",
              " 'fun',\n",
              " 'played',\n",
              " 'anyone',\n",
              " 'our',\n",
              " 'comes',\n",
              " 'believe',\n",
              " 'having',\n",
              " 'trying',\n",
              " 'course',\n",
              " 'especially',\n",
              " 'goes',\n",
              " 'day',\n",
              " 'looks',\n",
              " 'shows',\n",
              " 'hard',\n",
              " 'although',\n",
              " 'different',\n",
              " 'put',\n",
              " 'wasnt',\n",
              " 'place',\n",
              " 'book',\n",
              " 'money',\n",
              " 'reason',\n",
              " 'sense',\n",
              " 'main',\n",
              " 'set',\n",
              " 'ending',\n",
              " 'looking',\n",
              " 'worth',\n",
              " 'true',\n",
              " 'once',\n",
              " 'watched',\n",
              " 'everything',\n",
              " 'plays',\n",
              " 'maybe',\n",
              " 'someone',\n",
              " 'job',\n",
              " 'actor',\n",
              " 'seem',\n",
              " 'said',\n",
              " 'takes',\n",
              " 'screen',\n",
              " 'dvd',\n",
              " 'three',\n",
              " 'play',\n",
              " 'together',\n",
              " 'beautiful',\n",
              " 'effects',\n",
              " 'during',\n",
              " 'instead',\n",
              " 'himself',\n",
              " 'later',\n",
              " '10',\n",
              " 'version',\n",
              " 'john',\n",
              " '2',\n",
              " 'left',\n",
              " 'everyone',\n",
              " 'seeing',\n",
              " 'audience',\n",
              " 'special',\n",
              " 'night',\n",
              " 'house',\n",
              " 'american',\n",
              " 'excellent',\n",
              " 'idea',\n",
              " 'wife',\n",
              " 'nice',\n",
              " 'simply',\n",
              " 'shot',\n",
              " 'youre',\n",
              " 'read',\n",
              " 'high',\n",
              " 'less',\n",
              " 'completely',\n",
              " 'black',\n",
              " 'help',\n",
              " 'else',\n",
              " 'kids',\n",
              " 'fan',\n",
              " 'war',\n",
              " 'used',\n",
              " 'star',\n",
              " 'poor',\n",
              " 'second',\n",
              " 'year',\n",
              " 'given',\n",
              " 'father',\n",
              " 'try',\n",
              " 'death',\n",
              " 'friends',\n",
              " 'need',\n",
              " 'use',\n",
              " 'rest',\n",
              " 'home',\n",
              " 'men',\n",
              " 'enjoy',\n",
              " 'performances',\n",
              " 'mind',\n",
              " 'short',\n",
              " 'classic',\n",
              " 'until',\n",
              " 'either',\n",
              " 'truly',\n",
              " 'hollywood',\n",
              " 'boring',\n",
              " 'along',\n",
              " 'half',\n",
              " 'wrong',\n",
              " 'dead',\n",
              " 'tell',\n",
              " 'production',\n",
              " 'line',\n",
              " 'women',\n",
              " 'couple',\n",
              " 'remember',\n",
              " 'came',\n",
              " 'start',\n",
              " 'recommend',\n",
              " 'next',\n",
              " 'understand',\n",
              " 'wonderful',\n",
              " 'full',\n",
              " 'getting',\n",
              " 'mean',\n",
              " 'others',\n",
              " 'stupid',\n",
              " 'let',\n",
              " 'moments',\n",
              " 'playing',\n",
              " 'keep',\n",
              " 'perhaps',\n",
              " 'awful',\n",
              " 'episode',\n",
              " 'camera',\n",
              " 'terrible',\n",
              " 'small',\n",
              " 'gives',\n",
              " 'stars',\n",
              " 'doing',\n",
              " 'sex',\n",
              " 'often',\n",
              " 'video',\n",
              " 'definitely',\n",
              " 'early',\n",
              " 'perfect',\n",
              " 'become',\n",
              " 'name',\n",
              " 'felt',\n",
              " 'school',\n",
              " 'face',\n",
              " 'human',\n",
              " 'supposed',\n",
              " 'couldnt',\n",
              " 'liked',\n",
              " 'lines',\n",
              " 'dialogue',\n",
              " 'piece',\n",
              " 'person',\n",
              " 'itself',\n",
              " 'lost',\n",
              " 'top',\n",
              " 'absolutely',\n",
              " 'case',\n",
              " 'against',\n",
              " 'went',\n",
              " 'entire',\n",
              " 'live',\n",
              " 'certainly',\n",
              " 'waste',\n",
              " 'sort',\n",
              " 'shes',\n",
              " 'head',\n",
              " 'budget',\n",
              " 'written',\n",
              " 'style',\n",
              " 'finally',\n",
              " 'hope',\n",
              " 'problem',\n",
              " 'picture',\n",
              " 'several',\n",
              " 'loved',\n",
              " 'evil',\n",
              " 'yes',\n",
              " 'title',\n",
              " 'worse',\n",
              " 'becomes',\n",
              " 'entertaining',\n",
              " 'cinema',\n",
              " 'mr',\n",
              " 'seemed',\n",
              " 'white',\n",
              " 'beginning',\n",
              " 'fans',\n",
              " 'boy',\n",
              " 'already',\n",
              " 'care',\n",
              " 'wanted',\n",
              " '\\x96',\n",
              " 'example',\n",
              " 'dark',\n",
              " 'based',\n",
              " 'lives',\n",
              " 'id',\n",
              " 'guys',\n",
              " 'killer',\n",
              " 'mother',\n",
              " 'friend',\n",
              " 'direction',\n",
              " 'throughout',\n",
              " 'totally',\n",
              " 'wont',\n",
              " 'turn',\n",
              " 'fine',\n",
              " 'wants',\n",
              " 'children',\n",
              " 'final',\n",
              " 'amazing',\n",
              " 'laugh',\n",
              " 'drama',\n",
              " 'girls',\n",
              " 'guess',\n",
              " 'lead',\n",
              " '3',\n",
              " 'tries',\n",
              " 'called',\n",
              " 'humor',\n",
              " 'sound',\n",
              " 'youll',\n",
              " 'writing',\n",
              " 'low',\n",
              " 'under',\n",
              " 'despite',\n",
              " 'works',\n",
              " 'turns',\n",
              " 'history',\n",
              " 'able',\n",
              " 'enjoyed',\n",
              " 'oh',\n",
              " 'behind',\n",
              " 'theyre',\n",
              " 'unfortunately',\n",
              " 'michael',\n",
              " 'past',\n",
              " 'quality',\n",
              " 'days',\n",
              " 'gave',\n",
              " 'starts',\n",
              " 'favorite',\n",
              " 'son',\n",
              " 'kill',\n",
              " 'game',\n",
              " 'act',\n",
              " '1',\n",
              " 'sometimes',\n",
              " 'town',\n",
              " 'viewer',\n",
              " 'side',\n",
              " 'parts',\n",
              " 'horrible',\n",
              " 'car',\n",
              " 'actress',\n",
              " 'child',\n",
              " 'ones',\n",
              " 'eyes',\n",
              " 'expect',\n",
              " 'soon',\n",
              " 'flick',\n",
              " 'themselves',\n",
              " 'heart',\n",
              " 'art',\n",
              " 'thinking',\n",
              " 'obviously',\n",
              " 'brilliant',\n",
              " 'stories',\n",
              " 'decent',\n",
              " 'feeling',\n",
              " 'myself',\n",
              " 'genre',\n",
              " 'run',\n",
              " 'late',\n",
              " 'directed',\n",
              " 'overall',\n",
              " 'stuff',\n",
              " 'blood',\n",
              " 'fight',\n",
              " 'says',\n",
              " 'close',\n",
              " 'city',\n",
              " 'took',\n",
              " 'heard',\n",
              " 'cannot',\n",
              " 'highly',\n",
              " 'hand',\n",
              " 'leave',\n",
              " 'except',\n",
              " 'killed',\n",
              " 'kid',\n",
              " 'matter',\n",
              " 'ill',\n",
              " 'moment',\n",
              " 'police',\n",
              " 'hell',\n",
              " 'wouldnt',\n",
              " 'extremely',\n",
              " 'roles',\n",
              " 'strong',\n",
              " 'happens',\n",
              " 'particularly',\n",
              " 'hour',\n",
              " 'lack',\n",
              " 'happened',\n",
              " 'involved',\n",
              " 'attempt',\n",
              " 'obvious',\n",
              " 'told',\n",
              " 'chance',\n",
              " 'living',\n",
              " 'wonder',\n",
              " 'james',\n",
              " 'violence',\n",
              " 'including',\n",
              " 'etc',\n",
              " 'complete',\n",
              " 'voice',\n",
              " 'murder',\n",
              " 'coming',\n",
              " 'daughter',\n",
              " 'group',\n",
              " 'looked',\n",
              " 'age',\n",
              " 'save',\n",
              " 'experience',\n",
              " 'type',\n",
              " 'simple',\n",
              " 'alone',\n",
              " 'number',\n",
              " 'exactly',\n",
              " 'slow',\n",
              " 'shown',\n",
              " 'happen',\n",
              " 'ago',\n",
              " 'god',\n",
              " 'interest',\n",
              " 'score',\n",
              " 'whose',\n",
              " 'brother',\n",
              " 'taken',\n",
              " 'none',\n",
              " 'serious',\n",
              " 'usually',\n",
              " 'across',\n",
              " 'stop',\n",
              " 'hours',\n",
              " 'cinematography',\n",
              " 'annoying',\n",
              " 'running',\n",
              " 'somewhat',\n",
              " 'song',\n",
              " 'known',\n",
              " 'opening',\n",
              " 'ends',\n",
              " 'musical',\n",
              " 'usual',\n",
              " 'sad',\n",
              " 'finds',\n",
              " 'career',\n",
              " 'yourself',\n",
              " 'hit',\n",
              " 'wish',\n",
              " 'started',\n",
              " 'released',\n",
              " 'huge',\n",
              " 'relationship',\n",
              " 'scary',\n",
              " 'gore',\n",
              " 'possible',\n",
              " 'please',\n",
              " 'lets',\n",
              " 'order',\n",
              " 'jokes',\n",
              " 'change',\n",
              " 'david',\n",
              " 'crap',\n",
              " 'saying',\n",
              " 'shots',\n",
              " 'reality',\n",
              " 'english',\n",
              " 'ridiculous',\n",
              " 'hilarious',\n",
              " 'novel',\n",
              " 'episodes',\n",
              " 'mostly',\n",
              " 'cool',\n",
              " 'cut',\n",
              " 'body',\n",
              " 'today',\n",
              " 'ok',\n",
              " 'female',\n",
              " 'major',\n",
              " 'opinion',\n",
              " 'talking',\n",
              " 'seriously',\n",
              " 'taking',\n",
              " 'call',\n",
              " 'robert',\n",
              " 'strange',\n",
              " 'directors',\n",
              " 'due',\n",
              " 'important',\n",
              " 'supporting',\n",
              " 'hero',\n",
              " 'knows',\n",
              " 'knew',\n",
              " 'view',\n",
              " 'documentary',\n",
              " 'power',\n",
              " 'events',\n",
              " 'turned',\n",
              " 'happy',\n",
              " 'apparently',\n",
              " 'husband',\n",
              " 'clearly',\n",
              " 'talent',\n",
              " 'songs',\n",
              " 'arent',\n",
              " 'level',\n",
              " 'room',\n",
              " 'british',\n",
              " 'single',\n",
              " 'king',\n",
              " 'tells',\n",
              " 'local',\n",
              " 'easily',\n",
              " 'attention',\n",
              " 'basically',\n",
              " 'word',\n",
              " 'anyway',\n",
              " '5',\n",
              " 'bring',\n",
              " 'words',\n",
              " 'problems',\n",
              " 'cheap',\n",
              " 'silly',\n",
              " 'sequence',\n",
              " 'television',\n",
              " 'modern',\n",
              " 'disappointed',\n",
              " 'light',\n",
              " 'falls',\n",
              " 'sets',\n",
              " 'future',\n",
              " 'four',\n",
              " 'similar',\n",
              " 'beyond',\n",
              " 'country',\n",
              " 'whether',\n",
              " 'miss',\n",
              " 'five',\n",
              " 'needs',\n",
              " 'appears',\n",
              " 'romantic',\n",
              " '4',\n",
              " 'giving',\n",
              " 'jack',\n",
              " 'viewers',\n",
              " 'predictable',\n",
              " 'earth',\n",
              " 'comic',\n",
              " 'upon',\n",
              " 'entertainment',\n",
              " 'talk',\n",
              " 'rating',\n",
              " 'within',\n",
              " 'paul',\n",
              " 'havent',\n",
              " 'review',\n",
              " 'feels',\n",
              " 'whats',\n",
              " 'message',\n",
              " 'mention',\n",
              " 'george',\n",
              " 'nearly',\n",
              " 'enjoyable',\n",
              " 'bunch',\n",
              " 'theater',\n",
              " 'lady',\n",
              " 'animation',\n",
              " 'storyline',\n",
              " 'rock',\n",
              " 'richard',\n",
              " 'actual',\n",
              " 'points',\n",
              " 'surprised',\n",
              " 'middle',\n",
              " 'moving',\n",
              " 'named',\n",
              " 'above',\n",
              " 'using',\n",
              " 'theme',\n",
              " 'lots',\n",
              " 'herself',\n",
              " 'dull',\n",
              " 'mystery',\n",
              " 'add',\n",
              " 'begins',\n",
              " 'ways',\n",
              " 'sequel',\n",
              " 'among',\n",
              " 'fantastic',\n",
              " 'typical',\n",
              " 'ten',\n",
              " 'showing',\n",
              " 'elements',\n",
              " 'york',\n",
              " 'easy',\n",
              " 'comments',\n",
              " 'thriller',\n",
              " 'team',\n",
              " 'stay',\n",
              " 'writer',\n",
              " 'tried',\n",
              " 'fall',\n",
              " 'effort',\n",
              " 'clear',\n",
              " 'certain',\n",
              " 'near',\n",
              " 'hate',\n",
              " 'release',\n",
              " 'french',\n",
              " 'famous',\n",
              " 'tale',\n",
              " 'parents',\n",
              " 'means',\n",
              " 'leads',\n",
              " 'kept',\n",
              " 'straight',\n",
              " 'working',\n",
              " 'greatest',\n",
              " 'buy',\n",
              " 'dialog',\n",
              " 'soundtrack',\n",
              " 'somehow',\n",
              " 'form',\n",
              " 'class',\n",
              " 'doubt',\n",
              " 'general',\n",
              " 'red',\n",
              " 'editing',\n",
              " 'weak',\n",
              " 'sister',\n",
              " 'brought',\n",
              " 'figure',\n",
              " 'peter',\n",
              " 'feature',\n",
              " 'oscar',\n",
              " 'season',\n",
              " 'material',\n",
              " 'hear',\n",
              " 'gone',\n",
              " 'filmed',\n",
              " 'whos',\n",
              " 'particular',\n",
              " 'viewing',\n",
              " 'sorry',\n",
              " 'learn',\n",
              " 'realistic',\n",
              " 'move',\n",
              " 'tom',\n",
              " 'check',\n",
              " 'atmosphere',\n",
              " 'youve',\n",
              " 'reviews',\n",
              " 'decided',\n",
              " 'sequences',\n",
              " 'fast',\n",
              " 'period',\n",
              " 'imagine',\n",
              " 'possibly',\n",
              " 'eventually',\n",
              " 'deal',\n",
              " 'lame',\n",
              " 'became',\n",
              " 'premise',\n",
              " 'follow',\n",
              " 'dance',\n",
              " 'space',\n",
              " 'de',\n",
              " 'stand',\n",
              " 'avoid',\n",
              " 'eye',\n",
              " 'difficult',\n",
              " 'sit',\n",
              " 'wait',\n",
              " 'lee',\n",
              " 'poorly',\n",
              " 'forget',\n",
              " 'expected',\n",
              " 'zombie',\n",
              " 'die',\n",
              " 'sexual',\n",
              " 'japanese',\n",
              " 'indeed',\n",
              " 'writers',\n",
              " 'surprise',\n",
              " 'crime',\n",
              " 'third',\n",
              " 'nature',\n",
              " 'nor',\n",
              " 'leaves',\n",
              " 'average',\n",
              " '80s',\n",
              " 'subject',\n",
              " 'suspense',\n",
              " 'stage',\n",
              " 'killing',\n",
              " 'believable',\n",
              " 'whatever',\n",
              " 'truth',\n",
              " 'needed',\n",
              " 'filmmakers',\n",
              " 'screenplay',\n",
              " 'rent',\n",
              " 'meets',\n",
              " 'reading',\n",
              " 'meet',\n",
              " 'boys',\n",
              " 'begin',\n",
              " 'question',\n",
              " 'romance',\n",
              " 'street',\n",
              " 'realize',\n",
              " 'emotional',\n",
              " 'forced',\n",
              " 'memorable',\n",
              " 'joe',\n",
              " 'write',\n",
              " 'superb',\n",
              " 'minute',\n",
              " 'dr',\n",
              " 'older',\n",
              " 'keeps',\n",
              " 'earlier',\n",
              " 'situation',\n",
              " 'interested',\n",
              " 'baby',\n",
              " 'whom',\n",
              " 'weird',\n",
              " 'footage',\n",
              " 'credits',\n",
              " 'features',\n",
              " 'dramatic',\n",
              " 'beauty',\n",
              " 'disney',\n",
              " 'shame',\n",
              " 'otherwise',\n",
              " 'towards',\n",
              " 'dog',\n",
              " 'previous',\n",
              " 'badly',\n",
              " 'ask',\n",
              " 'note',\n",
              " 'brings',\n",
              " 'hot',\n",
              " 'crazy',\n",
              " 'comment',\n",
              " 'okay',\n",
              " 'personal',\n",
              " 'male',\n",
              " 'worked',\n",
              " 'total',\n",
              " 'plenty',\n",
              " 'incredibly',\n",
              " 'sounds',\n",
              " 'perfectly',\n",
              " 'directing',\n",
              " 'admit',\n",
              " 'unless',\n",
              " 'society',\n",
              " 'result',\n",
              " 'cheesy',\n",
              " 'unique',\n",
              " 'quickly',\n",
              " 'laughs',\n",
              " 'deep',\n",
              " 'america',\n",
              " 'free',\n",
              " 'creepy',\n",
              " 'development',\n",
              " 'leading',\n",
              " 'appear',\n",
              " 'return',\n",
              " 'meant',\n",
              " 'hardly',\n",
              " 'brothers',\n",
              " 'plus',\n",
              " 'hands',\n",
              " 'open',\n",
              " '20',\n",
              " 'various',\n",
              " 'effect',\n",
              " 'casting',\n",
              " 'remake',\n",
              " 'imdb',\n",
              " 'create',\n",
              " 'b',\n",
              " 'mark',\n",
              " 'setting',\n",
              " 'christmas',\n",
              " 'mess',\n",
              " 'battle',\n",
              " 'scifi',\n",
              " 'potential',\n",
              " 'background',\n",
              " 'monster',\n",
              " 'forward',\n",
              " 'powerful',\n",
              " 'portrayed',\n",
              " 'dream',\n",
              " 'inside',\n",
              " '70s',\n",
              " 'business',\n",
              " 'outside',\n",
              " 'fairly',\n",
              " 'manages',\n",
              " 'ideas',\n",
              " 'missing',\n",
              " 'fails',\n",
              " 'expecting',\n",
              " 'bill',\n",
              " 'present',\n",
              " 'political',\n",
              " 'attempts',\n",
              " 'apart',\n",
              " 'deserves',\n",
              " 'twist',\n",
              " 'la',\n",
              " 'secret',\n",
              " 'dumb',\n",
              " 'jane',\n",
              " 'fire',\n",
              " 'fantasy',\n",
              " 'joke',\n",
              " 'fighting',\n",
              " 'pay',\n",
              " 'air',\n",
              " 'gay',\n",
              " 'front',\n",
              " 'masterpiece',\n",
              " 'married',\n",
              " 'rich',\n",
              " ...]"
            ]
          },
          "metadata": {},
          "execution_count": 13
        }
      ],
      "source": [
        "vectorize_layer.get_vocabulary()"
      ]
    },
    {
      "cell_type": "code",
      "execution_count": 14,
      "metadata": {
        "id": "UNQsRMGNZvDd",
        "colab": {
          "base_uri": "https://localhost:8080/"
        },
        "outputId": "d4161973-8796-476d-a7cd-3aef81f8da6a"
      },
      "outputs": [
        {
          "output_type": "execute_result",
          "data": {
            "text/plain": [
              "10000"
            ]
          },
          "metadata": {},
          "execution_count": 14
        }
      ],
      "source": [
        "len(vectorize_layer.get_vocabulary()) ### 10000  words in our vocab as set by us"
      ]
    },
    {
      "cell_type": "code",
      "execution_count": 15,
      "metadata": {
        "id": "i2vqJD89ji8Z",
        "colab": {
          "base_uri": "https://localhost:8080/"
        },
        "outputId": "85b7c1b5-4ecf-4f47-eb00-ef11bda29353"
      },
      "outputs": [
        {
          "output_type": "stream",
          "name": "stdout",
          "text": [
            "tf.Tensor(b\"This was an absolutely terrible movie. Don't be lured in by Christopher Walken or Michael Ironside. Both are great actors, but this must simply be their worst role in history. Even their great acting could not redeem this movie's ridiculous storyline. This movie is an early nineties US propaganda piece. The most pathetic scenes were those when the Columbian rebels were making their cases for revolutions. Maria Conchita Alonso appeared phony, and her pseudo-love affair with Walken was nothing but a pathetic emotional plug in a movie that was devoid of any real meaning. I am disappointed that there are movies like this, ruining actor's like Christopher Walken's good name. I could barely sit through it.\", shape=(), dtype=string)\n",
            "tf.Tensor(0, shape=(), dtype=int64)\n"
          ]
        }
      ],
      "source": [
        "for review, label in train_ds.take(1):\n",
        "  print(review)\n",
        "  print(label)"
      ]
    },
    {
      "cell_type": "code",
      "execution_count": 16,
      "metadata": {
        "id": "bblfNJT-T8iK"
      },
      "outputs": [],
      "source": [
        "def vectorizer(review, label):\n",
        "  return vectorize_layer(review), label"
      ]
    },
    {
      "cell_type": "code",
      "execution_count": 17,
      "metadata": {
        "id": "tTm8laHnUwD4"
      },
      "outputs": [],
      "source": [
        "train_dataset = train_ds.map(vectorizer)\n",
        "val_dataset = val_ds.map(vectorizer)"
      ]
    },
    {
      "cell_type": "code",
      "execution_count": 18,
      "metadata": {
        "id": "CxG0ByPTYaSl",
        "colab": {
          "base_uri": "https://localhost:8080/",
          "height": 35
        },
        "outputId": "3639499a-7cb9-4632-efaf-37c5f9fe687d"
      },
      "outputs": [
        {
          "output_type": "execute_result",
          "data": {
            "text/plain": [
              "'this'"
            ],
            "application/vnd.google.colaboratory.intrinsic+json": {
              "type": "string"
            }
          },
          "metadata": {},
          "execution_count": 18
        }
      ],
      "source": [
        "### These numbers are acc to the index number of the words present in the vocab\n",
        "vectorize_layer.get_vocabulary()[10]"
      ]
    },
    {
      "cell_type": "code",
      "execution_count": 19,
      "metadata": {
        "id": "ToDLmZr4Y5uf"
      },
      "outputs": [],
      "source": [
        "## and like the word lured did not make it in the first 10000 words vocab so 1 is unknown taken"
      ]
    },
    {
      "cell_type": "code",
      "execution_count": 20,
      "metadata": {
        "id": "KppkArhBVeGa",
        "colab": {
          "base_uri": "https://localhost:8080/"
        },
        "outputId": "571d2c5e-d543-44d6-ceea-4a7c557abd73"
      },
      "outputs": [
        {
          "output_type": "stream",
          "name": "stdout",
          "text": [
            "tf.Tensor(\n",
            "[  10   13   33  411  384   17   89   26    1    8   32 1337 3521   40\n",
            "  491    1  192   22   84  149   18   10  215  317   26   64  239  212\n",
            "    8  484   54   64   84  111   95   21 5502   10   91  637  737   10\n",
            "   17    7   33  393 9554  169 2443  406    2   87 1205  135   65  142\n",
            "   52    2    1 7408   65  245   64 2832   16    1 2851    1    1 1415\n",
            " 4969    3   39    1 1567   15 3521   13  156   18    4 1205  881 7874\n",
            "    8    4   17   12   13 4037    5   98  145 1234   11  236  696   12\n",
            "   48   22   91   37   10 7285  149   37 1337    1   49  396   11   95\n",
            " 1148  841  140    9    0    0    0    0    0    0    0    0    0    0\n",
            "    0    0    0    0    0    0    0    0    0    0    0    0    0    0\n",
            "    0    0    0    0    0    0    0    0    0    0    0    0    0    0\n",
            "    0    0    0    0    0    0    0    0    0    0    0    0    0    0\n",
            "    0    0    0    0    0    0    0    0    0    0    0    0    0    0\n",
            "    0    0    0    0    0    0    0    0    0    0    0    0    0    0\n",
            "    0    0    0    0    0    0    0    0    0    0    0    0    0    0\n",
            "    0    0    0    0    0    0    0    0    0    0    0    0    0    0\n",
            "    0    0    0    0    0    0    0    0    0    0    0    0    0    0\n",
            "    0    0    0    0    0    0    0    0    0    0    0    0], shape=(250,), dtype=int64)\n",
            "tf.Tensor(0, shape=(), dtype=int64)\n"
          ]
        }
      ],
      "source": [
        "for review, label in train_dataset.take(1):\n",
        "  print(review)\n",
        "  print(label)"
      ]
    },
    {
      "cell_type": "code",
      "execution_count": 21,
      "metadata": {
        "id": "_vEW9B2ZVlj1"
      },
      "outputs": [],
      "source": [
        "BATCH_SIZE = 64\n",
        "train_dataset = train_dataset.batch(BATCH_SIZE).prefetch(buffer_size = tf.data.AUTOTUNE)\n",
        "val_dataset = val_dataset.batch(BATCH_SIZE).prefetch(buffer_size = tf.data.AUTOTUNE)"
      ]
    },
    {
      "cell_type": "code",
      "execution_count": 22,
      "metadata": {
        "id": "qvCisl0jkgNh",
        "colab": {
          "base_uri": "https://localhost:8080/"
        },
        "outputId": "416a46d8-67bf-4895-ad81-6e1cc12523dd"
      },
      "outputs": [
        {
          "output_type": "stream",
          "name": "stdout",
          "text": [
            "Mounted at /content/drive/\n"
          ]
        }
      ],
      "source": [
        "from google.colab import drive\n",
        "drive.mount('/content/drive/')"
      ]
    },
    {
      "cell_type": "markdown",
      "metadata": {
        "id": "vMSVgkP1b7Cm"
      },
      "source": [
        "### Modeling"
      ]
    },
    {
      "cell_type": "code",
      "execution_count": null,
      "metadata": {
        "id": "tB2jfL0-ZW4-"
      },
      "outputs": [],
      "source": [
        "inputs = np.random.random([32, 100, 8]).astype(np.float32)\n",
        "simple_rnn = tf.keras.layers.SimpleRNN(25,)\n",
        "\n",
        "y = simple_rnn(inputs)\n",
        "print(y.shape)\n"
      ]
    },
    {
      "cell_type": "code",
      "execution_count": null,
      "metadata": {
        "id": "1haMJVA3gc8w"
      },
      "outputs": [],
      "source": [
        "### Embedding layer maps each and every word, token into specified embd dimensional vector\n",
        "EMBEDDING_DIM = 64\n",
        "model = tf.keras.models.Sequential([\n",
        "    Input(shape = (SEQUENCE_LENGTH) ),\n",
        "    Embedding(VOCAB_SIZE, EMBEDDING_DIM),\n",
        "    SimpleRNN(32),\n",
        "    Dense(1, activation = 'sigmoid'),\n",
        "])\n",
        "model.summary()"
      ]
    },
    {
      "cell_type": "code",
      "execution_count": null,
      "metadata": {
        "id": "zayu_hmJj771"
      },
      "outputs": [],
      "source": [
        "checkpoint_filepath = '/content/drive/MyDrive/Deep_Learning/NLP/Sentiment_Analysis_on_IMBD/rnn.h5'\n",
        "model_checkpoint_callback = tf.keras.callbacks.ModelCheckpoint(\n",
        "    filepath =checkpoint_filepath,\n",
        "    monitor = 'val_accuracy',\n",
        "    mode = 'max',\n",
        "    save_best_only = True\n",
        ")"
      ]
    },
    {
      "cell_type": "code",
      "execution_count": null,
      "metadata": {
        "id": "quEg6Z_NlSCb"
      },
      "outputs": [],
      "source": [
        "model.compile(optimizer = 'adam', loss = 'binary_crossentropy', metrics = ['accuracy'])"
      ]
    },
    {
      "cell_type": "code",
      "execution_count": null,
      "metadata": {
        "colab": {
          "base_uri": "https://localhost:8080/"
        },
        "id": "QXSpbEtrl7f0",
        "outputId": "e2b3d1c0-49e0-4555-fdc5-5546274151f5"
      },
      "outputs": [
        {
          "name": "stdout",
          "output_type": "stream",
          "text": [
            "Epoch 1/10\n",
            "391/391 [==============================] - 189s 474ms/step - loss: 0.6944 - accuracy: 0.5037 - val_loss: 0.6948 - val_accuracy: 0.5019\n",
            "Epoch 2/10\n",
            "391/391 [==============================] - 124s 318ms/step - loss: 0.6258 - accuracy: 0.6065 - val_loss: 0.7337 - val_accuracy: 0.5050\n",
            "Epoch 3/10\n",
            "391/391 [==============================] - 127s 326ms/step - loss: 0.5146 - accuracy: 0.6551 - val_loss: 0.8096 - val_accuracy: 0.5010\n",
            "Epoch 4/10\n",
            "391/391 [==============================] - 131s 335ms/step - loss: 0.4822 - accuracy: 0.6720 - val_loss: 0.8628 - val_accuracy: 0.5007\n",
            "Epoch 5/10\n",
            "391/391 [==============================] - 126s 324ms/step - loss: 0.4717 - accuracy: 0.6789 - val_loss: 0.8912 - val_accuracy: 0.4998\n",
            "Epoch 6/10\n",
            "391/391 [==============================] - 128s 327ms/step - loss: 0.4860 - accuracy: 0.6757 - val_loss: 0.8545 - val_accuracy: 0.5042\n",
            "Epoch 7/10\n",
            "391/391 [==============================] - 129s 331ms/step - loss: 0.4984 - accuracy: 0.6681 - val_loss: 0.8748 - val_accuracy: 0.5008\n",
            "Epoch 8/10\n",
            "391/391 [==============================] - 127s 326ms/step - loss: 0.4867 - accuracy: 0.6742 - val_loss: 0.9116 - val_accuracy: 0.4994\n",
            "Epoch 9/10\n",
            "391/391 [==============================] - 135s 346ms/step - loss: 0.4798 - accuracy: 0.6853 - val_loss: 0.9180 - val_accuracy: 0.5024\n",
            "Epoch 10/10\n",
            "391/391 [==============================] - 201s 515ms/step - loss: 0.4689 - accuracy: 0.6839 - val_loss: 0.9419 - val_accuracy: 0.5030\n"
          ]
        }
      ],
      "source": [
        "history = model.fit(\n",
        "    train_dataset,\n",
        "    validation_data = val_dataset,\n",
        "    epochs = 10,\n",
        "    callbacks = [model_checkpoint_callback]\n",
        "    )"
      ]
    },
    {
      "cell_type": "code",
      "execution_count": null,
      "metadata": {
        "colab": {
          "base_uri": "https://localhost:8080/",
          "height": 472
        },
        "id": "3b_Hf097mGig",
        "outputId": "e5e9a70d-934e-449b-c3ef-faeece0be041"
      },
      "outputs": [
        {
          "data": {
            "image/png": "[encoded data removed]",
            "text/plain": [
              "<Figure size 640x480 with 1 Axes>"
            ]
          },
          "metadata": {},
          "output_type": "display_data"
        }
      ],
      "source": [
        "plt.plot(history.history['loss'])\n",
        "plt.plot(history.history['val_loss'])\n",
        "plt.title('model_loss')\n",
        "plt.xlabel('epoch')\n",
        "plt.ylabel('loss')\n",
        "plt.legend(['train', 'val'], loc = 'upper left')\n",
        "plt.show()"
      ]
    },
    {
      "cell_type": "code",
      "execution_count": null,
      "metadata": {
        "colab": {
          "base_uri": "https://localhost:8080/",
          "height": 472
        },
        "id": "EX2i09l8v0pT",
        "outputId": "126874d5-99eb-45ed-a53e-2734792a661b"
      },
      "outputs": [
        {
          "data": {
            "image/png": "[encoded data removed]",
            "text/plain": [
              "<Figure size 640x480 with 1 Axes>"
            ]
          },
          "metadata": {},
          "output_type": "display_data"
        }
      ],
      "source": [
        "plt.plot(history.history['accuracy'])\n",
        "plt.plot(history.history['val_accuracy'])\n",
        "plt.title('model_accuracy')\n",
        "plt.xlabel('epoch')\n",
        "plt.ylabel('accuracy')\n",
        "plt.legend(['train', 'val'], loc = 'upper left')\n",
        "plt.show()"
      ]
    },
    {
      "cell_type": "markdown",
      "metadata": {
        "id": "UUjWO3-P4Idl"
      },
      "source": [
        "## LSTM ( MultiLayer and Bidirectional)"
      ]
    },
    {
      "cell_type": "code",
      "execution_count": null,
      "metadata": {
        "colab": {
          "base_uri": "https://localhost:8080/"
        },
        "id": "3UMYigsmv_YX",
        "outputId": "f1abcee0-9b45-45e2-c807-9078c2e85df6"
      },
      "outputs": [
        {
          "name": "stdout",
          "output_type": "stream",
          "text": [
            "Model: \"sequential_1\"\n",
            "_________________________________________________________________\n",
            " Layer (type)                Output Shape              Param #   \n",
            "=================================================================\n",
            " embedding_2 (Embedding)     (None, 250, 64)           640000    \n",
            "                                                                 \n",
            " bidirectional_2 (Bidirectio  (None, 250, 128)         66048     \n",
            " nal)                                                            \n",
            "                                                                 \n",
            " bidirectional_3 (Bidirectio  (None, 64)               41216     \n",
            " nal)                                                            \n",
            "                                                                 \n",
            " dense_2 (Dense)             (None, 64)                4160      \n",
            "                                                                 \n",
            " dropout (Dropout)           (None, 64)                0         \n",
            "                                                                 \n",
            " dense_3 (Dense)             (None, 1)                 65        \n",
            "                                                                 \n",
            "=================================================================\n",
            "Total params: 751,489\n",
            "Trainable params: 751,489\n",
            "Non-trainable params: 0\n",
            "_________________________________________________________________\n"
          ]
        }
      ],
      "source": [
        "EMBEDDING_DIM = 64\n",
        "model = tf.keras.models.Sequential([\n",
        "    Input(shape = (SEQUENCE_LENGTH, )),\n",
        "    Embedding(VOCAB_SIZE, EMBEDDING_DIM),\n",
        "\n",
        "    Bidirectional(LSTM(64, return_sequences = True)),\n",
        "    Bidirectional(LSTM(32)),\n",
        "\n",
        "    Dense(64, activation = 'relu'),\n",
        "    Dropout(0.5),\n",
        "    Dense(1, activation = 'sigmoid')\n",
        "])\n",
        "\n",
        "model.summary()"
      ]
    },
    {
      "cell_type": "code",
      "execution_count": null,
      "metadata": {
        "id": "JyBgOeWM5C7Q"
      },
      "outputs": [],
      "source": [
        "model.compile(loss = tf.keras.losses.BinaryCrossentropy(),\n",
        "              optimizer = tf.keras.optimizers.Adam(1e-4),\n",
        "              metrics = 'accuracy')"
      ]
    },
    {
      "cell_type": "code",
      "execution_count": null,
      "metadata": {
        "id": "OyiKaUP_5kfz"
      },
      "outputs": [],
      "source": [
        "checkpoint_filepath = '/content/drive/MyDrive/Deep_Learning/NLP/Sentiment_Analysis_on_IMBD/lstm.h5'\n",
        "model_checkpoint_callback = tf.keras.callbacks.ModelCheckpoint(\n",
        "    filepath =checkpoint_filepath,\n",
        "    monitor = 'val_accuracy',\n",
        "    mode = 'max',\n",
        "    save_best_only = True\n",
        ")"
      ]
    },
    {
      "cell_type": "code",
      "execution_count": null,
      "metadata": {
        "colab": {
          "base_uri": "https://localhost:8080/"
        },
        "id": "d5lCALH35tsM",
        "outputId": "d741330a-e13a-4380-eeaf-e57c4714039b"
      },
      "outputs": [
        {
          "name": "stdout",
          "output_type": "stream",
          "text": [
            "Epoch 1/10\n",
            "391/391 [==============================] - 89s 205ms/step - loss: 0.6219 - accuracy: 0.6226 - val_loss: 0.4082 - val_accuracy: 0.8190\n",
            "Epoch 2/10\n",
            "391/391 [==============================] - 37s 94ms/step - loss: 0.3384 - accuracy: 0.8638 - val_loss: 0.3363 - val_accuracy: 0.8590\n",
            "Epoch 3/10\n",
            "391/391 [==============================] - 31s 78ms/step - loss: 0.2492 - accuracy: 0.9086 - val_loss: 0.3669 - val_accuracy: 0.8618\n",
            "Epoch 4/10\n",
            "391/391 [==============================] - 29s 75ms/step - loss: 0.1990 - accuracy: 0.9326 - val_loss: 0.4231 - val_accuracy: 0.8588\n",
            "Epoch 5/10\n",
            "391/391 [==============================] - 22s 57ms/step - loss: 0.1708 - accuracy: 0.9473 - val_loss: 0.4555 - val_accuracy: 0.8554\n",
            "Epoch 6/10\n",
            "391/391 [==============================] - 28s 71ms/step - loss: 0.1623 - accuracy: 0.9473 - val_loss: 0.4295 - val_accuracy: 0.8492\n",
            "Epoch 7/10\n",
            "391/391 [==============================] - 22s 57ms/step - loss: 0.1511 - accuracy: 0.9493 - val_loss: 0.4400 - val_accuracy: 0.8512\n",
            "Epoch 8/10\n",
            "391/391 [==============================] - 22s 56ms/step - loss: 0.1301 - accuracy: 0.9588 - val_loss: 0.5641 - val_accuracy: 0.8325\n",
            "Epoch 9/10\n",
            "391/391 [==============================] - 22s 57ms/step - loss: 0.1151 - accuracy: 0.9662 - val_loss: 0.5402 - val_accuracy: 0.8469\n",
            "Epoch 10/10\n",
            "391/391 [==============================] - 27s 70ms/step - loss: 0.1119 - accuracy: 0.9661 - val_loss: 0.5506 - val_accuracy: 0.8456\n"
          ]
        }
      ],
      "source": [
        "history = model.fit(\n",
        "    train_dataset,\n",
        "    validation_data = val_dataset,\n",
        "    epochs = 10,\n",
        "    callbacks = [model_checkpoint_callback]\n",
        ")"
      ]
    },
    {
      "cell_type": "code",
      "execution_count": null,
      "metadata": {
        "colab": {
          "base_uri": "https://localhost:8080/",
          "height": 472
        },
        "id": "rjxQCCC66y5-",
        "outputId": "ebf340d7-8440-4cbe-8483-9cbabae1c2c3"
      },
      "outputs": [
        {
          "data": {
            "image/png": "[encoded data removed]",
            "text/plain": [
              "<Figure size 640x480 with 1 Axes>"
            ]
          },
          "metadata": {},
          "output_type": "display_data"
        }
      ],
      "source": [
        "plt.plot(history.history['loss'])\n",
        "plt.plot(history.history['val_loss'])\n",
        "plt.title('model_loss')\n",
        "plt.xlabel('epoch')\n",
        "plt.ylabel('loss')\n",
        "plt.legend(['train', 'val'], loc = 'upper left')\n",
        "plt.show()"
      ]
    },
    {
      "cell_type": "code",
      "execution_count": null,
      "metadata": {
        "colab": {
          "base_uri": "https://localhost:8080/",
          "height": 472
        },
        "id": "droT_Pit64J3",
        "outputId": "62334c17-8914-4233-b51c-fd6f5dd444ec"
      },
      "outputs": [
        {
          "data": {
            "image/png": "[encoded data removed]",
            "text/plain": [
              "<Figure size 640x480 with 1 Axes>"
            ]
          },
          "metadata": {},
          "output_type": "display_data"
        }
      ],
      "source": [
        "plt.plot(history.history['accuracy'])\n",
        "plt.plot(history.history['val_accuracy'])\n",
        "plt.title('model_accuracy')\n",
        "plt.xlabel('epoch')\n",
        "plt.ylabel('accuracy')\n",
        "plt.legend(['train', 'val'], loc = 'upper left')\n",
        "plt.show()"
      ]
    },
    {
      "cell_type": "markdown",
      "metadata": {
        "id": "jVfhk28q6IXT"
      },
      "source": [
        "## GRU ( MultiLayer and Bidirectional)"
      ]
    },
    {
      "cell_type": "code",
      "execution_count": null,
      "metadata": {
        "colab": {
          "base_uri": "https://localhost:8080/"
        },
        "id": "A-SQXzQs54YJ",
        "outputId": "a49c2277-39f1-4ad5-a04f-d295170594be"
      },
      "outputs": [
        {
          "name": "stdout",
          "output_type": "stream",
          "text": [
            "Model: \"sequential_2\"\n",
            "_________________________________________________________________\n",
            " Layer (type)                Output Shape              Param #   \n",
            "=================================================================\n",
            " embedding_4 (Embedding)     (None, 250, 64)           640000    \n",
            "                                                                 \n",
            " bidirectional_4 (Bidirectio  (None, 250, 128)         49920     \n",
            " nal)                                                            \n",
            "                                                                 \n",
            " bidirectional_5 (Bidirectio  (None, 64)               31104     \n",
            " nal)                                                            \n",
            "                                                                 \n",
            " dense_4 (Dense)             (None, 64)                4160      \n",
            "                                                                 \n",
            " dropout_1 (Dropout)         (None, 64)                0         \n",
            "                                                                 \n",
            " dense_5 (Dense)             (None, 1)                 65        \n",
            "                                                                 \n",
            "=================================================================\n",
            "Total params: 725,249\n",
            "Trainable params: 725,249\n",
            "Non-trainable params: 0\n",
            "_________________________________________________________________\n"
          ]
        }
      ],
      "source": [
        "EMBEDDING_DIM = 64\n",
        "model = tf.keras.models.Sequential([\n",
        "    Input(shape = (SEQUENCE_LENGTH, )),\n",
        "    Embedding(VOCAB_SIZE, EMBEDDING_DIM),\n",
        "\n",
        "    Bidirectional(GRU(64, return_sequences = True)),\n",
        "    Bidirectional(GRU(32)),\n",
        "\n",
        "    Dense(64, activation = 'relu'),\n",
        "    Dropout(0.5),\n",
        "    Dense(1, activation = 'sigmoid')\n",
        "])\n",
        "\n",
        "model.summary()"
      ]
    },
    {
      "cell_type": "code",
      "execution_count": null,
      "metadata": {
        "id": "gaBMiuB777Ap"
      },
      "outputs": [],
      "source": [
        "model.compile(loss = tf.keras.losses.BinaryCrossentropy(),\n",
        "              optimizer = tf.keras.optimizers.Adam(1e-4),\n",
        "              metrics = 'accuracy')"
      ]
    },
    {
      "cell_type": "code",
      "execution_count": null,
      "metadata": {
        "id": "3qnTKpWl8GZ2"
      },
      "outputs": [],
      "source": [
        "checkpoint_filepath = '/content/drive/MyDrive/Deep_Learning/NLP/Sentiment_Analysis_on_IMBD/gru.h5'\n",
        "model_checkpoint_callback = tf.keras.callbacks.ModelCheckpoint(\n",
        "    filepath =checkpoint_filepath,\n",
        "    monitor = 'val_accuracy',\n",
        "    mode = 'max',\n",
        "    save_best_only = True\n",
        ")"
      ]
    },
    {
      "cell_type": "code",
      "execution_count": null,
      "metadata": {
        "colab": {
          "base_uri": "https://localhost:8080/"
        },
        "id": "gaN623ZX8LfQ",
        "outputId": "e2ab3d91-528f-4cbd-96c6-15961512b6ca"
      },
      "outputs": [
        {
          "name": "stdout",
          "output_type": "stream",
          "text": [
            "Epoch 1/10\n",
            "391/391 [==============================] - 78s 174ms/step - loss: 0.6916 - accuracy: 0.5275 - val_loss: 0.6847 - val_accuracy: 0.5803\n",
            "Epoch 2/10\n",
            "391/391 [==============================] - 24s 61ms/step - loss: 0.4560 - accuracy: 0.7820 - val_loss: 0.3493 - val_accuracy: 0.8512\n",
            "Epoch 3/10\n",
            "391/391 [==============================] - 22s 56ms/step - loss: 0.2715 - accuracy: 0.8969 - val_loss: 0.3361 - val_accuracy: 0.8620\n",
            "Epoch 4/10\n",
            "391/391 [==============================] - 22s 56ms/step - loss: 0.2251 - accuracy: 0.9187 - val_loss: 0.3878 - val_accuracy: 0.8619\n",
            "Epoch 5/10\n",
            "391/391 [==============================] - 23s 59ms/step - loss: 0.1982 - accuracy: 0.9286 - val_loss: 0.4208 - val_accuracy: 0.8578\n",
            "Epoch 6/10\n",
            "391/391 [==============================] - 23s 60ms/step - loss: 0.1692 - accuracy: 0.9438 - val_loss: 0.4490 - val_accuracy: 0.8582\n",
            "Epoch 7/10\n",
            "391/391 [==============================] - 23s 59ms/step - loss: 0.1468 - accuracy: 0.9539 - val_loss: 0.4739 - val_accuracy: 0.8499\n",
            "Epoch 8/10\n",
            "391/391 [==============================] - 22s 56ms/step - loss: 0.1383 - accuracy: 0.9548 - val_loss: 0.4554 - val_accuracy: 0.8501\n",
            "Epoch 9/10\n",
            "391/391 [==============================] - 22s 56ms/step - loss: 0.1331 - accuracy: 0.9556 - val_loss: 0.5538 - val_accuracy: 0.8395\n",
            "Epoch 10/10\n",
            "391/391 [==============================] - 22s 56ms/step - loss: 0.1214 - accuracy: 0.9605 - val_loss: 0.5048 - val_accuracy: 0.8462\n"
          ]
        }
      ],
      "source": [
        "history = model.fit(\n",
        "    train_dataset,\n",
        "    validation_data = val_dataset,\n",
        "    epochs = 10,\n",
        "    callbacks = [model_checkpoint_callback]\n",
        ")"
      ]
    },
    {
      "cell_type": "code",
      "execution_count": null,
      "metadata": {
        "colab": {
          "base_uri": "https://localhost:8080/",
          "height": 472
        },
        "id": "GrcCiuby8OeB",
        "outputId": "22f9cb94-2e46-48c5-c7b0-af38c3e0669a"
      },
      "outputs": [
        {
          "data": {
            "image/png": "[encoded data removed]",
            "text/plain": [
              "<Figure size 640x480 with 1 Axes>"
            ]
          },
          "metadata": {},
          "output_type": "display_data"
        }
      ],
      "source": [
        "plt.plot(history.history['loss'])\n",
        "plt.plot(history.history['val_loss'])\n",
        "plt.title('model_loss')\n",
        "plt.xlabel('epoch')\n",
        "plt.ylabel('loss')\n",
        "plt.legend(['train', 'val'], loc = 'upper left')\n",
        "plt.show()"
      ]
    },
    {
      "cell_type": "code",
      "execution_count": null,
      "metadata": {
        "colab": {
          "base_uri": "https://localhost:8080/",
          "height": 472
        },
        "id": "kHTF6JBa8RrK",
        "outputId": "f3bb306c-03de-41fe-8b1f-6d4ceee2b25d"
      },
      "outputs": [
        {
          "data": {
            "image/png": "[encoded data removed]",
            "text/plain": [
              "<Figure size 640x480 with 1 Axes>"
            ]
          },
          "metadata": {},
          "output_type": "display_data"
        }
      ],
      "source": [
        "plt.plot(history.history['accuracy'])\n",
        "plt.plot(history.history['val_accuracy'])\n",
        "plt.title('model_accuracy')\n",
        "plt.xlabel('epoch')\n",
        "plt.ylabel('accuracy')\n",
        "plt.legend(['train', 'val'], loc = 'upper left')\n",
        "plt.show()"
      ]
    },
    {
      "cell_type": "markdown",
      "metadata": {
        "id": "QDV3ADMjGshX"
      },
      "source": [
        "## Conv1D"
      ]
    },
    {
      "cell_type": "code",
      "execution_count": null,
      "metadata": {
        "colab": {
          "base_uri": "https://localhost:8080/"
        },
        "id": "kod2WynL8Ufr",
        "outputId": "df9567f8-0145-4801-df25-d1eb3ebcc0b5"
      },
      "outputs": [
        {
          "name": "stdout",
          "output_type": "stream",
          "text": [
            "Model: \"sequential_3\"\n",
            "_________________________________________________________________\n",
            " Layer (type)                Output Shape              Param #   \n",
            "=================================================================\n",
            " embedding_5 (Embedding)     (None, 250, 64)           640000    \n",
            "                                                                 \n",
            " conv1d (Conv1D)             (None, 248, 32)           6176      \n",
            "                                                                 \n",
            " flatten (Flatten)           (None, 7936)              0         \n",
            "                                                                 \n",
            " dense_6 (Dense)             (None, 32)                253984    \n",
            "                                                                 \n",
            " dropout_2 (Dropout)         (None, 32)                0         \n",
            "                                                                 \n",
            " dense_7 (Dense)             (None, 1)                 33        \n",
            "                                                                 \n",
            "=================================================================\n",
            "Total params: 900,193\n",
            "Trainable params: 900,193\n",
            "Non-trainable params: 0\n",
            "_________________________________________________________________\n"
          ]
        }
      ],
      "source": [
        "EMBEDDING_DIM = 64\n",
        "model = tf.keras.models.Sequential([\n",
        "    Input(shape = (SEQUENCE_LENGTH, )),\n",
        "    Embedding(VOCAB_SIZE, EMBEDDING_DIM),\n",
        "\n",
        "    Conv1D(32, 3, activation = 'relu', ),\n",
        "    Flatten(),\n",
        "\n",
        "    Dense(32, activation = 'relu'),\n",
        "    Dropout(0.5),\n",
        "    Dense(1, activation = 'sigmoid')\n",
        "])\n",
        "\n",
        "model.summary()"
      ]
    },
    {
      "cell_type": "code",
      "execution_count": null,
      "metadata": {
        "id": "SIvottOvHNJ1"
      },
      "outputs": [],
      "source": [
        "model.compile(loss = tf.keras.losses.BinaryCrossentropy(),\n",
        "              optimizer = tf.keras.optimizers.Adam(1e-4),\n",
        "              metrics = 'accuracy')"
      ]
    },
    {
      "cell_type": "code",
      "execution_count": null,
      "metadata": {
        "id": "a9-TMeP4HScS"
      },
      "outputs": [],
      "source": [
        "checkpoint_filepath = '/content/drive/MyDrive/Deep_Learning/NLP/Sentiment_Analysis_on_IMBD/conv1d.h5'\n",
        "model_checkpoint_callback = tf.keras.callbacks.ModelCheckpoint(\n",
        "    filepath =checkpoint_filepath,\n",
        "    monitor = 'val_accuracy',\n",
        "    mode = 'max',\n",
        "    save_best_only = True\n",
        ")"
      ]
    },
    {
      "cell_type": "code",
      "execution_count": null,
      "metadata": {
        "colab": {
          "base_uri": "https://localhost:8080/"
        },
        "id": "4YX2DGuSHYV2",
        "outputId": "54a892fa-d4ba-4f24-ce18-3136e59519f2"
      },
      "outputs": [
        {
          "name": "stdout",
          "output_type": "stream",
          "text": [
            "Epoch 1/10\n",
            "391/391 [==============================] - 77s 178ms/step - loss: 0.6928 - accuracy: 0.5100 - val_loss: 0.6912 - val_accuracy: 0.5356\n",
            "Epoch 2/10\n",
            "391/391 [==============================] - 13s 33ms/step - loss: 0.6555 - accuracy: 0.6237 - val_loss: 0.5326 - val_accuracy: 0.7757\n",
            "Epoch 3/10\n",
            "391/391 [==============================] - 12s 30ms/step - loss: 0.3928 - accuracy: 0.8389 - val_loss: 0.3376 - val_accuracy: 0.8598\n",
            "Epoch 4/10\n",
            "391/391 [==============================] - 15s 37ms/step - loss: 0.2765 - accuracy: 0.8934 - val_loss: 0.3145 - val_accuracy: 0.8677\n",
            "Epoch 5/10\n",
            "391/391 [==============================] - 15s 37ms/step - loss: 0.2262 - accuracy: 0.9184 - val_loss: 0.3172 - val_accuracy: 0.8702\n",
            "Epoch 6/10\n",
            "391/391 [==============================] - 14s 35ms/step - loss: 0.1922 - accuracy: 0.9347 - val_loss: 0.3281 - val_accuracy: 0.8675\n",
            "Epoch 7/10\n",
            "391/391 [==============================] - 12s 31ms/step - loss: 0.1661 - accuracy: 0.9476 - val_loss: 0.3431 - val_accuracy: 0.8650\n",
            "Epoch 8/10\n",
            "391/391 [==============================] - 13s 34ms/step - loss: 0.1435 - accuracy: 0.9570 - val_loss: 0.3694 - val_accuracy: 0.8614\n",
            "Epoch 9/10\n",
            "391/391 [==============================] - 12s 31ms/step - loss: 0.1263 - accuracy: 0.9636 - val_loss: 0.3970 - val_accuracy: 0.8580\n",
            "Epoch 10/10\n",
            "391/391 [==============================] - 14s 35ms/step - loss: 0.1093 - accuracy: 0.9700 - val_loss: 0.4322 - val_accuracy: 0.8541\n"
          ]
        }
      ],
      "source": [
        "history = model.fit(\n",
        "    train_dataset,\n",
        "    validation_data = val_dataset,\n",
        "    epochs = 10,\n",
        "    callbacks = [model_checkpoint_callback]\n",
        ")"
      ]
    },
    {
      "cell_type": "code",
      "execution_count": null,
      "metadata": {
        "colab": {
          "base_uri": "https://localhost:8080/",
          "height": 472
        },
        "id": "HNOp8_3wHhnQ",
        "outputId": "5cc44c1c-a7b2-4c8e-e833-319aa19ea725"
      },
      "outputs": [
        {
          "data": {
            "image/png": "[encoded data removed]",
            "text/plain": [
              "<Figure size 640x480 with 1 Axes>"
            ]
          },
          "metadata": {},
          "output_type": "display_data"
        }
      ],
      "source": [
        "plt.plot(history.history['loss'])\n",
        "plt.plot(history.history['val_loss'])\n",
        "plt.title('model_loss')\n",
        "plt.xlabel('epoch')\n",
        "plt.ylabel('loss')\n",
        "plt.legend(['train', 'val'], loc = 'upper left')\n",
        "plt.show()"
      ]
    },
    {
      "cell_type": "code",
      "execution_count": null,
      "metadata": {
        "colab": {
          "base_uri": "https://localhost:8080/",
          "height": 472
        },
        "id": "U2XIAZvGHkrz",
        "outputId": "c34419a3-90aa-4103-9905-c231fa32d810"
      },
      "outputs": [
        {
          "data": {
            "image/png": "[encoded data removed]",
            "text/plain": [
              "<Figure size 640x480 with 1 Axes>"
            ]
          },
          "metadata": {},
          "output_type": "display_data"
        }
      ],
      "source": [
        "plt.plot(history.history['accuracy'])\n",
        "plt.plot(history.history['val_accuracy'])\n",
        "plt.title('model_accuracy')\n",
        "plt.xlabel('epoch')\n",
        "plt.ylabel('accuracy')\n",
        "plt.legend(['train', 'val'], loc = 'upper left')\n",
        "plt.show()"
      ]
    },
    {
      "cell_type": "markdown",
      "metadata": {
        "id": "hGQP_C57HqWt"
      },
      "source": [
        "### Evaluation"
      ]
    },
    {
      "cell_type": "code",
      "source": [
        "test_dataset = test_ds.map(vectorizer)\n",
        "test_dataset = test_dataset.batch(BATCH_SIZE)"
      ],
      "metadata": {
        "id": "0ipHeJhKhiDk"
      },
      "execution_count": 30,
      "outputs": []
    },
    {
      "cell_type": "code",
      "execution_count": null,
      "metadata": {
        "colab": {
          "base_uri": "https://localhost:8080/"
        },
        "id": "mES4IwDQHp9f",
        "outputId": "1c951a01-35dc-4cfe-e61f-82252e707930"
      },
      "outputs": [
        {
          "name": "stdout",
          "output_type": "stream",
          "text": [
            "196/196 [==============================] - 4s 20ms/step - loss: 0.4291 - accuracy: 0.8520\n"
          ]
        },
        {
          "data": {
            "text/plain": [
              "[0.42909151315689087, 0.8519999980926514]"
            ]
          },
          "execution_count": 62,
          "metadata": {},
          "output_type": "execute_result"
        }
      ],
      "source": [
        "model.evaluate(test_dataset)"
      ]
    },
    {
      "cell_type": "markdown",
      "source": [
        "#Pretrained word2vec[Gensim]"
      ],
      "metadata": {
        "id": "ah-Zp1wcfQp6"
      }
    },
    {
      "cell_type": "code",
      "execution_count": null,
      "metadata": {
        "colab": {
          "background_save": true
        },
        "id": "T7hQ6s3mH460",
        "outputId": "3d0f2c53-7936-43b8-be72-153d41580281"
      },
      "outputs": [
        {
          "name": "stdout",
          "output_type": "stream",
          "text": [
            "[===================================---------------] 71.8% 1194.7/1662.8MB downloaded"
          ]
        }
      ],
      "source": [
        "word2vec=api.load('word2vec-google-news-300') ### 300 for 300 emb dimensions"
      ]
    },
    {
      "cell_type": "code",
      "source": [
        "word2vec.vectors.shape"
      ],
      "metadata": {
        "id": "ZLLk2SQpfVjl"
      },
      "execution_count": null,
      "outputs": []
    },
    {
      "cell_type": "code",
      "source": [
        "#print(word2vec.vocab)\n",
        "len(word2vec['The'])"
      ],
      "metadata": {
        "id": "I5E_VRp3fYbc"
      },
      "execution_count": null,
      "outputs": []
    },
    {
      "cell_type": "code",
      "source": [
        "word2vec.most_similar('Man')"
      ],
      "metadata": {
        "id": "od2ze1LrfeBn"
      },
      "execution_count": null,
      "outputs": []
    },
    {
      "cell_type": "code",
      "source": [
        "pretrained_embeddings=[]"
      ],
      "metadata": {
        "id": "V5hQv_g1fekn"
      },
      "execution_count": null,
      "outputs": []
    },
    {
      "cell_type": "code",
      "source": [
        "def first_caps(word):\n",
        "  return word[0].upper()+word[1:]"
      ],
      "metadata": {
        "id": "WGq24V6xfgZx"
      },
      "execution_count": null,
      "outputs": []
    },
    {
      "cell_type": "code",
      "source": [
        "vectorize_layer.get_vocabulary()[2]"
      ],
      "metadata": {
        "id": "SzYKYqC3fihA"
      },
      "execution_count": null,
      "outputs": []
    },
    {
      "cell_type": "code",
      "source": [
        "#first_caps(vectorize_layer.get_vocabulary()[2])"
      ],
      "metadata": {
        "id": "GZ9AG65Tfkxj"
      },
      "execution_count": null,
      "outputs": []
    },
    {
      "cell_type": "code",
      "source": [
        "len(vectorize_layer.get_vocabulary())"
      ],
      "metadata": {
        "id": "ImTYJyzefnvD"
      },
      "execution_count": null,
      "outputs": []
    },
    {
      "cell_type": "code",
      "source": [
        "for i in range(len(vectorize_layer.get_vocabulary())):\n",
        "  try:\n",
        "    pretrained_embeddings.append(word2vec[vectorize_layer.get_vocabulary()[i]])\n",
        "  except:\n",
        "    print(vectorize_layer.get_vocabulary()[i])\n",
        "    try:\n",
        "      pretrained_embeddings.append(word2vec[first_caps(vectorize_layer.get_vocabulary()[i])])\n",
        "      print('toupper')\n",
        "    except:\n",
        "      print('nosolution')\n",
        "      pretrained_embeddings.append(random.normal(loc=0, scale=1, size=(EMBEDDING_DIM)))#reloaded_word_vectors[vectorize_layer.get_vocabulary()[i]])\n",
        "  if i%1000==0:\n",
        "    print('iis====================================',i)"
      ],
      "metadata": {
        "id": "_GKqFXZGfq-G"
      },
      "execution_count": null,
      "outputs": []
    },
    {
      "cell_type": "code",
      "source": [
        "pretrained_embeddings_array=np.array(pretrained_embeddings)\n",
        "print(pretrained_embeddings_array.shape)"
      ],
      "metadata": {
        "id": "uVeieZLMfuGO"
      },
      "execution_count": null,
      "outputs": []
    },
    {
      "cell_type": "code",
      "source": [
        "#np.save('/content/drive/MyDrive/Deep_Learning/NLP/Sentiment_Analysis_on_IMBD/pretrained_embeddings',pretrained_embeddings_array)"
      ],
      "metadata": {
        "id": "QCP6sbhCf5Dk"
      },
      "execution_count": null,
      "outputs": []
    },
    {
      "cell_type": "code",
      "source": [
        "pretrained_embeddings_array=np.load('/content/drive/MyDrive/Deep_Learning/NLP/Sentiment_Analysis_on_IMBD/pretrained_embeddings.npy')"
      ],
      "metadata": {
        "id": "7dlWyrPwf8EF"
      },
      "execution_count": 24,
      "outputs": []
    },
    {
      "cell_type": "code",
      "source": [
        "pretrained_embeddings_array.shape"
      ],
      "metadata": {
        "colab": {
          "base_uri": "https://localhost:8080/"
        },
        "id": "Yx9Wqk10gJvr",
        "outputId": "f35590fe-7d69-40cc-c5aa-c436d5eed965"
      },
      "execution_count": 25,
      "outputs": [
        {
          "output_type": "execute_result",
          "data": {
            "text/plain": [
              "(10000, 300)"
            ]
          },
          "metadata": {},
          "execution_count": 25
        }
      ]
    },
    {
      "cell_type": "code",
      "source": [
        "EMBEDDING_DIM=300\n",
        "model=tf.keras.models.Sequential([\n",
        "    Input(shape=(SEQUENCE_LENGTH,)),\n",
        "    Embedding(\n",
        "        VOCAB_SIZE,\n",
        "        EMBEDDING_DIM,\n",
        "        embeddings_initializer=tf.keras.initializers.Constant(pretrained_embeddings_array),\n",
        "        trainable=True,\n",
        "    ),\n",
        "\n",
        "    Conv1D(32, 3, activation='relu',),\n",
        "    Flatten(),\n",
        "    Dense(32, activation='relu'),\n",
        "    Dropout(0.5),\n",
        "    Dense(1,activation='sigmoid'),\n",
        "])\n",
        "model.summary()"
      ],
      "metadata": {
        "colab": {
          "base_uri": "https://localhost:8080/"
        },
        "id": "xKrJFcqfgMdU",
        "outputId": "2d6d3cb6-b5d2-4fd4-ceba-55e4473ad6ad"
      },
      "execution_count": 26,
      "outputs": [
        {
          "output_type": "stream",
          "name": "stdout",
          "text": [
            "Model: \"sequential\"\n",
            "_________________________________________________________________\n",
            " Layer (type)                Output Shape              Param #   \n",
            "=================================================================\n",
            " embedding (Embedding)       (None, 250, 300)          3000000   \n",
            "                                                                 \n",
            " conv1d (Conv1D)             (None, 248, 32)           28832     \n",
            "                                                                 \n",
            " flatten (Flatten)           (None, 7936)              0         \n",
            "                                                                 \n",
            " dense (Dense)               (None, 32)                253984    \n",
            "                                                                 \n",
            " dropout (Dropout)           (None, 32)                0         \n",
            "                                                                 \n",
            " dense_1 (Dense)             (None, 1)                 33        \n",
            "                                                                 \n",
            "=================================================================\n",
            "Total params: 3,282,849\n",
            "Trainable params: 3,282,849\n",
            "Non-trainable params: 0\n",
            "_________________________________________________________________\n"
          ]
        }
      ]
    },
    {
      "cell_type": "code",
      "source": [
        "checkpoint_filepath = '/content/drive/MyDrive/Deep_Learning/NLP/Sentiment_Analysis_on_IMBD/word2vec.h5'\n",
        "model_checkpoint_callback = tf.keras.callbacks.ModelCheckpoint(\n",
        "    filepath=checkpoint_filepath,\n",
        "    monitor='val_accuracy',\n",
        "    mode='max',\n",
        "    save_best_only=True)"
      ],
      "metadata": {
        "id": "a34AAoAGgR06"
      },
      "execution_count": null,
      "outputs": []
    },
    {
      "cell_type": "code",
      "source": [
        "model.compile(loss=tf.keras.losses.BinaryCrossentropy(),\n",
        "              optimizer=tf.keras.optimizers.Adam(1e-4),\n",
        "              metrics=['accuracy'])"
      ],
      "metadata": {
        "id": "uS7ITDISga54"
      },
      "execution_count": 28,
      "outputs": []
    },
    {
      "cell_type": "code",
      "source": [
        "history=model.fit(\n",
        "    train_dataset,\n",
        "    validation_data=val_dataset,\n",
        "    epochs=10,\n",
        "    callbacks=[model_checkpoint_callback])"
      ],
      "metadata": {
        "id": "dQxv6Ibegftt"
      },
      "execution_count": null,
      "outputs": []
    },
    {
      "cell_type": "code",
      "source": [
        "plt.plot(history.history['loss'])\n",
        "plt.plot(history.history['val_loss'])\n",
        "plt.title('model_loss')\n",
        "plt.ylabel('loss')\n",
        "plt.xlabel('epoch')\n",
        "plt.legend(['train', 'val'], loc='upper left')\n",
        "plt.show()"
      ],
      "metadata": {
        "id": "jEKMDeJDgi5t"
      },
      "execution_count": null,
      "outputs": []
    },
    {
      "cell_type": "code",
      "source": [
        "plt.plot(history.history['accuracy'])\n",
        "plt.plot(history.history['val_accuracy'])\n",
        "\n",
        "plt.title('model_accuracy')\n",
        "plt.ylabel('accuracy')\n",
        "plt.xlabel('epoch')\n",
        "plt.legend(['train', 'val'], loc='upper left')\n",
        "plt.show()"
      ],
      "metadata": {
        "id": "RGwt_U66gl63"
      },
      "execution_count": null,
      "outputs": []
    },
    {
      "cell_type": "markdown",
      "source": [
        "### Evaluation"
      ],
      "metadata": {
        "id": "W_OqcLHQgp8s"
      }
    },
    {
      "cell_type": "code",
      "source": [
        "model.load_weights('/content/drive/MyDrive/Deep_Learning/NLP/Sentiment_Analysis_on_IMBD/word2vec.h5')"
      ],
      "metadata": {
        "id": "y2WTLlpAgn-4"
      },
      "execution_count": 27,
      "outputs": []
    },
    {
      "cell_type": "code",
      "source": [
        "model.evaluate(test_dataset)"
      ],
      "metadata": {
        "colab": {
          "base_uri": "https://localhost:8080/"
        },
        "id": "dSDZIsePg9FB",
        "outputId": "42f7697c-dc52-4d9e-91af-09fa3407eaae"
      },
      "execution_count": 31,
      "outputs": [
        {
          "output_type": "stream",
          "name": "stdout",
          "text": [
            "196/196 [==============================] - 10s 48ms/step - loss: 0.4006 - accuracy: 0.8203\n"
          ]
        },
        {
          "output_type": "execute_result",
          "data": {
            "text/plain": [
              "[0.4006192684173584, 0.8203200101852417]"
            ]
          },
          "metadata": {},
          "execution_count": 31
        }
      ]
    },
    {
      "cell_type": "markdown",
      "source": [
        "### Testing"
      ],
      "metadata": {
        "id": "mMy1Gcb0htbY"
      }
    },
    {
      "cell_type": "code",
      "source": [
        "test_data = tf.data.Dataset.from_tensor_slices([['Cruise the stuntman is reliably spectacular here, but Cruise the actor seems a bit scattered... And Hunt the character? He fails personally when it counts, but suffers not a single consequence because of it.'],\n",
        "                                           ['This most recent installment is funny and genuinely exciting--but not for 2hrs and 43 minutes. Not that running-time is any way to judge a movie, but an audience that has been entertained, and not exhausted, might be happier overall; I know I would. ']])"
      ],
      "metadata": {
        "id": "CMK2YPlIhFoE"
      },
      "execution_count": 33,
      "outputs": []
    },
    {
      "cell_type": "code",
      "source": [
        "def vectorizer_test(review):\n",
        "  return vectorize_layer(review)\n",
        "test_dataset = test_data.map(vectorizer_test)"
      ],
      "metadata": {
        "id": "wKKD-gGmkL7Y"
      },
      "execution_count": 34,
      "outputs": []
    },
    {
      "cell_type": "code",
      "source": [
        "model.predict(test_dataset)"
      ],
      "metadata": {
        "colab": {
          "base_uri": "https://localhost:8080/"
        },
        "id": "G9Bw_ND7kwuR",
        "outputId": "414f54d3-67d7-44c5-e92b-5d3b146f7cb8"
      },
      "execution_count": 43,
      "outputs": [
        {
          "output_type": "stream",
          "name": "stdout",
          "text": [
            "2/2 [==============================] - 0s 13ms/step\n"
          ]
        },
        {
          "output_type": "execute_result",
          "data": {
            "text/plain": [
              "array([[0.38951567],\n",
              "       [0.7685648 ]], dtype=float32)"
            ]
          },
          "metadata": {},
          "execution_count": 43
        }
      ]
    },
    {
      "cell_type": "code",
      "source": [
        "def pos_or_neg(x):\n",
        "  if x < 0.5:\n",
        "    print(\"Negative review\")\n",
        "  else:\n",
        "    print(\"postive review\")"
      ],
      "metadata": {
        "id": "FN3JRWfEkyAH"
      },
      "execution_count": 44,
      "outputs": []
    },
    {
      "cell_type": "code",
      "source": [
        "for x in test_dataset:\n",
        "  pos_or_neg(model.predict(x))"
      ],
      "metadata": {
        "colab": {
          "base_uri": "https://localhost:8080/"
        },
        "id": "rktWzzcBlp5J",
        "outputId": "3c30f730-1ccc-4b6c-f616-80800966c69b"
      },
      "execution_count": 45,
      "outputs": [
        {
          "output_type": "stream",
          "name": "stdout",
          "text": [
            "1/1 [==============================] - 0s 30ms/step\n",
            "Negative review\n",
            "1/1 [==============================] - 0s 22ms/step\n",
            "postive review\n"
          ]
        }
      ]
    },
    {
      "cell_type": "markdown",
      "source": [
        "## inference ready model"
      ],
      "metadata": {
        "id": "0AOCV2Hqml0S"
      }
    },
    {
      "cell_type": "code",
      "source": [
        "inputs = Input(shape = (1,), dtype = 'string')\n",
        "vectorized_inputs = vectorize_layer(inputs)\n",
        "outputs = model(vectorized_inputs)\n",
        "inference_ready_model = tf.keras.Model(inputs, outputs)\n",
        "inference_ready_model.summary()"
      ],
      "metadata": {
        "colab": {
          "base_uri": "https://localhost:8080/"
        },
        "id": "2rrXh9JymIDl",
        "outputId": "0c320746-69ed-4841-f34a-bb9780a8d9dc"
      },
      "execution_count": 47,
      "outputs": [
        {
          "output_type": "stream",
          "name": "stdout",
          "text": [
            "Model: \"model\"\n",
            "_________________________________________________________________\n",
            " Layer (type)                Output Shape              Param #   \n",
            "=================================================================\n",
            " input_2 (InputLayer)        [(None, 1)]               0         \n",
            "                                                                 \n",
            " text_vectorization (TextVec  (None, 250)              0         \n",
            " torization)                                                     \n",
            "                                                                 \n",
            " sequential (Sequential)     (None, 1)                 3282849   \n",
            "                                                                 \n",
            "=================================================================\n",
            "Total params: 3,282,849\n",
            "Trainable params: 3,282,849\n",
            "Non-trainable params: 0\n",
            "_________________________________________________________________\n"
          ]
        }
      ]
    },
    {
      "cell_type": "code",
      "source": [
        "inference_ready_model.predict(['No narrative, characters or dialogue needed. But at nearly every turn, Dead Reckoning aims for something more than the sum of its Evel Knievel parts.'])"
      ],
      "metadata": {
        "colab": {
          "base_uri": "https://localhost:8080/"
        },
        "id": "X1T1EqV7oF9S",
        "outputId": "810f9bb0-40c2-4a88-819b-1ccf01e394fc"
      },
      "execution_count": 54,
      "outputs": [
        {
          "output_type": "stream",
          "name": "stdout",
          "text": [
            "1/1 [==============================] - 0s 41ms/step\n"
          ]
        },
        {
          "output_type": "execute_result",
          "data": {
            "text/plain": [
              "array([[0.5166733]], dtype=float32)"
            ]
          },
          "metadata": {},
          "execution_count": 54
        }
      ]
    },
    {
      "cell_type": "code",
      "source": [
        "pos_or_neg(inference_ready_model.predict(['No narrative, characters or dialogue needed. But at nearly every turn, Dead Reckoning aims for something more than the sum of its Evel Knievel parts.']))"
      ],
      "metadata": {
        "colab": {
          "base_uri": "https://localhost:8080/"
        },
        "id": "2GyuTG29nNmT",
        "outputId": "1b752a62-b3e8-4507-b1b3-aece74671404"
      },
      "execution_count": 53,
      "outputs": [
        {
          "output_type": "stream",
          "name": "stdout",
          "text": [
            "1/1 [==============================] - 0s 211ms/step\n",
            "postive review\n"
          ]
        }
      ]
    },
    {
      "cell_type": "code",
      "source": [],
      "metadata": {
        "id": "yj8HnpVDneGr"
      },
      "execution_count": null,
      "outputs": []
    }
  ],
  "metadata": {
    "colab": {
      "provenance": [],
      "authorship_tag": "ABX9TyNxha0EMG0cGF9Se6zne854",
      "include_colab_link": true
    },
    "kernelspec": {
      "display_name": "Python 3",
      "name": "python3"
    },
    "language_info": {
      "name": "python"
    },
    "widgets": {
      "application/vnd.jupyter.widget-state+json": {
        "d502edcd48ab4344a0e8f69b939debca": {
          "model_module": "@jupyter-widgets/controls",
          "model_name": "HBoxModel",
          "model_module_version": "1.5.0",
          "state": {
            "_dom_classes": [],
            "_model_module": "@jupyter-widgets/controls",
            "_model_module_version": "1.5.0",
            "_model_name": "HBoxModel",
            "_view_count": null,
            "_view_module": "@jupyter-widgets/controls",
            "_view_module_version": "1.5.0",
            "_view_name": "HBoxView",
            "box_style": "",
            "children": [
              "IPY_MODEL_72cff559a89e4e218f4f06df69a66d9f",
              "IPY_MODEL_d08c489175c241648a8e78dab0348f3c",
              "IPY_MODEL_54932812359f49ba84e2b3521ccf9fc4"
            ],
            "layout": "IPY_MODEL_ba368d2317c04768b88c971a37fe1f33"
          }
        },
        "72cff559a89e4e218f4f06df69a66d9f": {
          "model_module": "@jupyter-widgets/controls",
          "model_name": "HTMLModel",
          "model_module_version": "1.5.0",
          "state": {
            "_dom_classes": [],
            "_model_module": "@jupyter-widgets/controls",
            "_model_module_version": "1.5.0",
            "_model_name": "HTMLModel",
            "_view_count": null,
            "_view_module": "@jupyter-widgets/controls",
            "_view_module_version": "1.5.0",
            "_view_name": "HTMLView",
            "description": "",
            "description_tooltip": null,
            "layout": "IPY_MODEL_cac69c85527f4a32ba00bc41105dd760",
            "placeholder": "​",
            "style": "IPY_MODEL_08eac8cc9b32463bbcbfb194661bf4a9",
            "value": "Dl Completed...: 100%"
          }
        },
        "d08c489175c241648a8e78dab0348f3c": {
          "model_module": "@jupyter-widgets/controls",
          "model_name": "FloatProgressModel",
          "model_module_version": "1.5.0",
          "state": {
            "_dom_classes": [],
            "_model_module": "@jupyter-widgets/controls",
            "_model_module_version": "1.5.0",
            "_model_name": "FloatProgressModel",
            "_view_count": null,
            "_view_module": "@jupyter-widgets/controls",
            "_view_module_version": "1.5.0",
            "_view_name": "ProgressView",
            "bar_style": "success",
            "description": "",
            "description_tooltip": null,
            "layout": "IPY_MODEL_22664a1616aa4e8aa7b766e298e963aa",
            "max": 1,
            "min": 0,
            "orientation": "horizontal",
            "style": "IPY_MODEL_401d42c20cd841459df69ea25f95a612",
            "value": 1
          }
        },
        "54932812359f49ba84e2b3521ccf9fc4": {
          "model_module": "@jupyter-widgets/controls",
          "model_name": "HTMLModel",
          "model_module_version": "1.5.0",
          "state": {
            "_dom_classes": [],
            "_model_module": "@jupyter-widgets/controls",
            "_model_module_version": "1.5.0",
            "_model_name": "HTMLModel",
            "_view_count": null,
            "_view_module": "@jupyter-widgets/controls",
            "_view_module_version": "1.5.0",
            "_view_name": "HTMLView",
            "description": "",
            "description_tooltip": null,
            "layout": "IPY_MODEL_7aa75765e406447ea2ec45952e02a28b",
            "placeholder": "​",
            "style": "IPY_MODEL_eb95973fc22d4fcd922f89858c78b73b",
            "value": " 1/1 [00:06&lt;00:00,  6.03s/ url]"
          }
        },
        "ba368d2317c04768b88c971a37fe1f33": {
          "model_module": "@jupyter-widgets/base",
          "model_name": "LayoutModel",
          "model_module_version": "1.2.0",
          "state": {
            "_model_module": "@jupyter-widgets/base",
            "_model_module_version": "1.2.0",
            "_model_name": "LayoutModel",
            "_view_count": null,
            "_view_module": "@jupyter-widgets/base",
            "_view_module_version": "1.2.0",
            "_view_name": "LayoutView",
            "align_content": null,
            "align_items": null,
            "align_self": null,
            "border": null,
            "bottom": null,
            "display": null,
            "flex": null,
            "flex_flow": null,
            "grid_area": null,
            "grid_auto_columns": null,
            "grid_auto_flow": null,
            "grid_auto_rows": null,
            "grid_column": null,
            "grid_gap": null,
            "grid_row": null,
            "grid_template_areas": null,
            "grid_template_columns": null,
            "grid_template_rows": null,
            "height": null,
            "justify_content": null,
            "justify_items": null,
            "left": null,
            "margin": null,
            "max_height": null,
            "max_width": null,
            "min_height": null,
            "min_width": null,
            "object_fit": null,
            "object_position": null,
            "order": null,
            "overflow": null,
            "overflow_x": null,
            "overflow_y": null,
            "padding": null,
            "right": null,
            "top": null,
            "visibility": null,
            "width": null
          }
        },
        "cac69c85527f4a32ba00bc41105dd760": {
          "model_module": "@jupyter-widgets/base",
          "model_name": "LayoutModel",
          "model_module_version": "1.2.0",
          "state": {
            "_model_module": "@jupyter-widgets/base",
            "_model_module_version": "1.2.0",
            "_model_name": "LayoutModel",
            "_view_count": null,
            "_view_module": "@jupyter-widgets/base",
            "_view_module_version": "1.2.0",
            "_view_name": "LayoutView",
            "align_content": null,
            "align_items": null,
            "align_self": null,
            "border": null,
            "bottom": null,
            "display": null,
            "flex": null,
            "flex_flow": null,
            "grid_area": null,
            "grid_auto_columns": null,
            "grid_auto_flow": null,
            "grid_auto_rows": null,
            "grid_column": null,
            "grid_gap": null,
            "grid_row": null,
            "grid_template_areas": null,
            "grid_template_columns": null,
            "grid_template_rows": null,
            "height": null,
            "justify_content": null,
            "justify_items": null,
            "left": null,
            "margin": null,
            "max_height": null,
            "max_width": null,
            "min_height": null,
            "min_width": null,
            "object_fit": null,
            "object_position": null,
            "order": null,
            "overflow": null,
            "overflow_x": null,
            "overflow_y": null,
            "padding": null,
            "right": null,
            "top": null,
            "visibility": null,
            "width": null
          }
        },
        "08eac8cc9b32463bbcbfb194661bf4a9": {
          "model_module": "@jupyter-widgets/controls",
          "model_name": "DescriptionStyleModel",
          "model_module_version": "1.5.0",
          "state": {
            "_model_module": "@jupyter-widgets/controls",
            "_model_module_version": "1.5.0",
            "_model_name": "DescriptionStyleModel",
            "_view_count": null,
            "_view_module": "@jupyter-widgets/base",
            "_view_module_version": "1.2.0",
            "_view_name": "StyleView",
            "description_width": ""
          }
        },
        "22664a1616aa4e8aa7b766e298e963aa": {
          "model_module": "@jupyter-widgets/base",
          "model_name": "LayoutModel",
          "model_module_version": "1.2.0",
          "state": {
            "_model_module": "@jupyter-widgets/base",
            "_model_module_version": "1.2.0",
            "_model_name": "LayoutModel",
            "_view_count": null,
            "_view_module": "@jupyter-widgets/base",
            "_view_module_version": "1.2.0",
            "_view_name": "LayoutView",
            "align_content": null,
            "align_items": null,
            "align_self": null,
            "border": null,
            "bottom": null,
            "display": null,
            "flex": null,
            "flex_flow": null,
            "grid_area": null,
            "grid_auto_columns": null,
            "grid_auto_flow": null,
            "grid_auto_rows": null,
            "grid_column": null,
            "grid_gap": null,
            "grid_row": null,
            "grid_template_areas": null,
            "grid_template_columns": null,
            "grid_template_rows": null,
            "height": null,
            "justify_content": null,
            "justify_items": null,
            "left": null,
            "margin": null,
            "max_height": null,
            "max_width": null,
            "min_height": null,
            "min_width": null,
            "object_fit": null,
            "object_position": null,
            "order": null,
            "overflow": null,
            "overflow_x": null,
            "overflow_y": null,
            "padding": null,
            "right": null,
            "top": null,
            "visibility": null,
            "width": "20px"
          }
        },
        "401d42c20cd841459df69ea25f95a612": {
          "model_module": "@jupyter-widgets/controls",
          "model_name": "ProgressStyleModel",
          "model_module_version": "1.5.0",
          "state": {
            "_model_module": "@jupyter-widgets/controls",
            "_model_module_version": "1.5.0",
            "_model_name": "ProgressStyleModel",
            "_view_count": null,
            "_view_module": "@jupyter-widgets/base",
            "_view_module_version": "1.2.0",
            "_view_name": "StyleView",
            "bar_color": null,
            "description_width": ""
          }
        },
        "7aa75765e406447ea2ec45952e02a28b": {
          "model_module": "@jupyter-widgets/base",
          "model_name": "LayoutModel",
          "model_module_version": "1.2.0",
          "state": {
            "_model_module": "@jupyter-widgets/base",
            "_model_module_version": "1.2.0",
            "_model_name": "LayoutModel",
            "_view_count": null,
            "_view_module": "@jupyter-widgets/base",
            "_view_module_version": "1.2.0",
            "_view_name": "LayoutView",
            "align_content": null,
            "align_items": null,
            "align_self": null,
            "border": null,
            "bottom": null,
            "display": null,
            "flex": null,
            "flex_flow": null,
            "grid_area": null,
            "grid_auto_columns": null,
            "grid_auto_flow": null,
            "grid_auto_rows": null,
            "grid_column": null,
            "grid_gap": null,
            "grid_row": null,
            "grid_template_areas": null,
            "grid_template_columns": null,
            "grid_template_rows": null,
            "height": null,
            "justify_content": null,
            "justify_items": null,
            "left": null,
            "margin": null,
            "max_height": null,
            "max_width": null,
            "min_height": null,
            "min_width": null,
            "object_fit": null,
            "object_position": null,
            "order": null,
            "overflow": null,
            "overflow_x": null,
            "overflow_y": null,
            "padding": null,
            "right": null,
            "top": null,
            "visibility": null,
            "width": null
          }
        },
        "eb95973fc22d4fcd922f89858c78b73b": {
          "model_module": "@jupyter-widgets/controls",
          "model_name": "DescriptionStyleModel",
          "model_module_version": "1.5.0",
          "state": {
            "_model_module": "@jupyter-widgets/controls",
            "_model_module_version": "1.5.0",
            "_model_name": "DescriptionStyleModel",
            "_view_count": null,
            "_view_module": "@jupyter-widgets/base",
            "_view_module_version": "1.2.0",
            "_view_name": "StyleView",
            "description_width": ""
          }
        },
        "e6fde900f49744d49fb2126a578e9806": {
          "model_module": "@jupyter-widgets/controls",
          "model_name": "HBoxModel",
          "model_module_version": "1.5.0",
          "state": {
            "_dom_classes": [],
            "_model_module": "@jupyter-widgets/controls",
            "_model_module_version": "1.5.0",
            "_model_name": "HBoxModel",
            "_view_count": null,
            "_view_module": "@jupyter-widgets/controls",
            "_view_module_version": "1.5.0",
            "_view_name": "HBoxView",
            "box_style": "",
            "children": [
              "IPY_MODEL_de98c22ce2f84815a961723634d14ef8",
              "IPY_MODEL_c45c45b0ccf94a6a8d2e767d46e25556",
              "IPY_MODEL_4aa8400e1e9148bf95c73cf05a9b49cc"
            ],
            "layout": "IPY_MODEL_102d008c737c4f9faa042165bf381e0a"
          }
        },
        "de98c22ce2f84815a961723634d14ef8": {
          "model_module": "@jupyter-widgets/controls",
          "model_name": "HTMLModel",
          "model_module_version": "1.5.0",
          "state": {
            "_dom_classes": [],
            "_model_module": "@jupyter-widgets/controls",
            "_model_module_version": "1.5.0",
            "_model_name": "HTMLModel",
            "_view_count": null,
            "_view_module": "@jupyter-widgets/controls",
            "_view_module_version": "1.5.0",
            "_view_name": "HTMLView",
            "description": "",
            "description_tooltip": null,
            "layout": "IPY_MODEL_59cdde5f5a86469da8049c801c657ea6",
            "placeholder": "​",
            "style": "IPY_MODEL_c0be8827755d40edb9a9fecac5002eb4",
            "value": "Dl Size...: 100%"
          }
        },
        "c45c45b0ccf94a6a8d2e767d46e25556": {
          "model_module": "@jupyter-widgets/controls",
          "model_name": "FloatProgressModel",
          "model_module_version": "1.5.0",
          "state": {
            "_dom_classes": [],
            "_model_module": "@jupyter-widgets/controls",
            "_model_module_version": "1.5.0",
            "_model_name": "FloatProgressModel",
            "_view_count": null,
            "_view_module": "@jupyter-widgets/controls",
            "_view_module_version": "1.5.0",
            "_view_name": "ProgressView",
            "bar_style": "success",
            "description": "",
            "description_tooltip": null,
            "layout": "IPY_MODEL_29245828ded34f8db6eace94a504bea4",
            "max": 1,
            "min": 0,
            "orientation": "horizontal",
            "style": "IPY_MODEL_85edf662d1d342f7a33f8ccb8b3e76ed",
            "value": 1
          }
        },
        "4aa8400e1e9148bf95c73cf05a9b49cc": {
          "model_module": "@jupyter-widgets/controls",
          "model_name": "HTMLModel",
          "model_module_version": "1.5.0",
          "state": {
            "_dom_classes": [],
            "_model_module": "@jupyter-widgets/controls",
            "_model_module_version": "1.5.0",
            "_model_name": "HTMLModel",
            "_view_count": null,
            "_view_module": "@jupyter-widgets/controls",
            "_view_module_version": "1.5.0",
            "_view_name": "HTMLView",
            "description": "",
            "description_tooltip": null,
            "layout": "IPY_MODEL_33e34a558d4541bd808c46e634e57df5",
            "placeholder": "​",
            "style": "IPY_MODEL_f49373348bbc4dc49c741de6171fb772",
            "value": " 80/80 [00:06&lt;00:00, 38.16 MiB/s]"
          }
        },
        "102d008c737c4f9faa042165bf381e0a": {
          "model_module": "@jupyter-widgets/base",
          "model_name": "LayoutModel",
          "model_module_version": "1.2.0",
          "state": {
            "_model_module": "@jupyter-widgets/base",
            "_model_module_version": "1.2.0",
            "_model_name": "LayoutModel",
            "_view_count": null,
            "_view_module": "@jupyter-widgets/base",
            "_view_module_version": "1.2.0",
            "_view_name": "LayoutView",
            "align_content": null,
            "align_items": null,
            "align_self": null,
            "border": null,
            "bottom": null,
            "display": null,
            "flex": null,
            "flex_flow": null,
            "grid_area": null,
            "grid_auto_columns": null,
            "grid_auto_flow": null,
            "grid_auto_rows": null,
            "grid_column": null,
            "grid_gap": null,
            "grid_row": null,
            "grid_template_areas": null,
            "grid_template_columns": null,
            "grid_template_rows": null,
            "height": null,
            "justify_content": null,
            "justify_items": null,
            "left": null,
            "margin": null,
            "max_height": null,
            "max_width": null,
            "min_height": null,
            "min_width": null,
            "object_fit": null,
            "object_position": null,
            "order": null,
            "overflow": null,
            "overflow_x": null,
            "overflow_y": null,
            "padding": null,
            "right": null,
            "top": null,
            "visibility": null,
            "width": null
          }
        },
        "59cdde5f5a86469da8049c801c657ea6": {
          "model_module": "@jupyter-widgets/base",
          "model_name": "LayoutModel",
          "model_module_version": "1.2.0",
          "state": {
            "_model_module": "@jupyter-widgets/base",
            "_model_module_version": "1.2.0",
            "_model_name": "LayoutModel",
            "_view_count": null,
            "_view_module": "@jupyter-widgets/base",
            "_view_module_version": "1.2.0",
            "_view_name": "LayoutView",
            "align_content": null,
            "align_items": null,
            "align_self": null,
            "border": null,
            "bottom": null,
            "display": null,
            "flex": null,
            "flex_flow": null,
            "grid_area": null,
            "grid_auto_columns": null,
            "grid_auto_flow": null,
            "grid_auto_rows": null,
            "grid_column": null,
            "grid_gap": null,
            "grid_row": null,
            "grid_template_areas": null,
            "grid_template_columns": null,
            "grid_template_rows": null,
            "height": null,
            "justify_content": null,
            "justify_items": null,
            "left": null,
            "margin": null,
            "max_height": null,
            "max_width": null,
            "min_height": null,
            "min_width": null,
            "object_fit": null,
            "object_position": null,
            "order": null,
            "overflow": null,
            "overflow_x": null,
            "overflow_y": null,
            "padding": null,
            "right": null,
            "top": null,
            "visibility": null,
            "width": null
          }
        },
        "c0be8827755d40edb9a9fecac5002eb4": {
          "model_module": "@jupyter-widgets/controls",
          "model_name": "DescriptionStyleModel",
          "model_module_version": "1.5.0",
          "state": {
            "_model_module": "@jupyter-widgets/controls",
            "_model_module_version": "1.5.0",
            "_model_name": "DescriptionStyleModel",
            "_view_count": null,
            "_view_module": "@jupyter-widgets/base",
            "_view_module_version": "1.2.0",
            "_view_name": "StyleView",
            "description_width": ""
          }
        },
        "29245828ded34f8db6eace94a504bea4": {
          "model_module": "@jupyter-widgets/base",
          "model_name": "LayoutModel",
          "model_module_version": "1.2.0",
          "state": {
            "_model_module": "@jupyter-widgets/base",
            "_model_module_version": "1.2.0",
            "_model_name": "LayoutModel",
            "_view_count": null,
            "_view_module": "@jupyter-widgets/base",
            "_view_module_version": "1.2.0",
            "_view_name": "LayoutView",
            "align_content": null,
            "align_items": null,
            "align_self": null,
            "border": null,
            "bottom": null,
            "display": null,
            "flex": null,
            "flex_flow": null,
            "grid_area": null,
            "grid_auto_columns": null,
            "grid_auto_flow": null,
            "grid_auto_rows": null,
            "grid_column": null,
            "grid_gap": null,
            "grid_row": null,
            "grid_template_areas": null,
            "grid_template_columns": null,
            "grid_template_rows": null,
            "height": null,
            "justify_content": null,
            "justify_items": null,
            "left": null,
            "margin": null,
            "max_height": null,
            "max_width": null,
            "min_height": null,
            "min_width": null,
            "object_fit": null,
            "object_position": null,
            "order": null,
            "overflow": null,
            "overflow_x": null,
            "overflow_y": null,
            "padding": null,
            "right": null,
            "top": null,
            "visibility": null,
            "width": "20px"
          }
        },
        "85edf662d1d342f7a33f8ccb8b3e76ed": {
          "model_module": "@jupyter-widgets/controls",
          "model_name": "ProgressStyleModel",
          "model_module_version": "1.5.0",
          "state": {
            "_model_module": "@jupyter-widgets/controls",
            "_model_module_version": "1.5.0",
            "_model_name": "ProgressStyleModel",
            "_view_count": null,
            "_view_module": "@jupyter-widgets/base",
            "_view_module_version": "1.2.0",
            "_view_name": "StyleView",
            "bar_color": null,
            "description_width": ""
          }
        },
        "33e34a558d4541bd808c46e634e57df5": {
          "model_module": "@jupyter-widgets/base",
          "model_name": "LayoutModel",
          "model_module_version": "1.2.0",
          "state": {
            "_model_module": "@jupyter-widgets/base",
            "_model_module_version": "1.2.0",
            "_model_name": "LayoutModel",
            "_view_count": null,
            "_view_module": "@jupyter-widgets/base",
            "_view_module_version": "1.2.0",
            "_view_name": "LayoutView",
            "align_content": null,
            "align_items": null,
            "align_self": null,
            "border": null,
            "bottom": null,
            "display": null,
            "flex": null,
            "flex_flow": null,
            "grid_area": null,
            "grid_auto_columns": null,
            "grid_auto_flow": null,
            "grid_auto_rows": null,
            "grid_column": null,
            "grid_gap": null,
            "grid_row": null,
            "grid_template_areas": null,
            "grid_template_columns": null,
            "grid_template_rows": null,
            "height": null,
            "justify_content": null,
            "justify_items": null,
            "left": null,
            "margin": null,
            "max_height": null,
            "max_width": null,
            "min_height": null,
            "min_width": null,
            "object_fit": null,
            "object_position": null,
            "order": null,
            "overflow": null,
            "overflow_x": null,
            "overflow_y": null,
            "padding": null,
            "right": null,
            "top": null,
            "visibility": null,
            "width": null
          }
        },
        "f49373348bbc4dc49c741de6171fb772": {
          "model_module": "@jupyter-widgets/controls",
          "model_name": "DescriptionStyleModel",
          "model_module_version": "1.5.0",
          "state": {
            "_model_module": "@jupyter-widgets/controls",
            "_model_module_version": "1.5.0",
            "_model_name": "DescriptionStyleModel",
            "_view_count": null,
            "_view_module": "@jupyter-widgets/base",
            "_view_module_version": "1.2.0",
            "_view_name": "StyleView",
            "description_width": ""
          }
        },
        "f7c0041c08454db5910377412b220215": {
          "model_module": "@jupyter-widgets/controls",
          "model_name": "HBoxModel",
          "model_module_version": "1.5.0",
          "state": {
            "_dom_classes": [],
            "_model_module": "@jupyter-widgets/controls",
            "_model_module_version": "1.5.0",
            "_model_name": "HBoxModel",
            "_view_count": null,
            "_view_module": "@jupyter-widgets/controls",
            "_view_module_version": "1.5.0",
            "_view_name": "HBoxView",
            "box_style": "",
            "children": [
              "IPY_MODEL_20ddf9b42f9541aa8ac70b1e5d5cba68",
              "IPY_MODEL_ced82c71bf364d36a6149616c76ad094",
              "IPY_MODEL_1eaf228ef6394916af1b4f95074765c1"
            ],
            "layout": "IPY_MODEL_c4320fc55b8b444481c3bd8b34247854"
          }
        },
        "20ddf9b42f9541aa8ac70b1e5d5cba68": {
          "model_module": "@jupyter-widgets/controls",
          "model_name": "HTMLModel",
          "model_module_version": "1.5.0",
          "state": {
            "_dom_classes": [],
            "_model_module": "@jupyter-widgets/controls",
            "_model_module_version": "1.5.0",
            "_model_name": "HTMLModel",
            "_view_count": null,
            "_view_module": "@jupyter-widgets/controls",
            "_view_module_version": "1.5.0",
            "_view_name": "HTMLView",
            "description": "",
            "description_tooltip": null,
            "layout": "IPY_MODEL_f7891b76862843f18b35ccaae8753f1e",
            "placeholder": "​",
            "style": "IPY_MODEL_c558b14c606f46e2a4ed644116a2c337",
            "value": "Generating splits...: 100%"
          }
        },
        "ced82c71bf364d36a6149616c76ad094": {
          "model_module": "@jupyter-widgets/controls",
          "model_name": "FloatProgressModel",
          "model_module_version": "1.5.0",
          "state": {
            "_dom_classes": [],
            "_model_module": "@jupyter-widgets/controls",
            "_model_module_version": "1.5.0",
            "_model_name": "FloatProgressModel",
            "_view_count": null,
            "_view_module": "@jupyter-widgets/controls",
            "_view_module_version": "1.5.0",
            "_view_name": "ProgressView",
            "bar_style": "",
            "description": "",
            "description_tooltip": null,
            "layout": "IPY_MODEL_7662aa37ba7740f3bb08fd4a01a934cb",
            "max": 3,
            "min": 0,
            "orientation": "horizontal",
            "style": "IPY_MODEL_505880afdf72417c9e09138f770ce1d0",
            "value": 3
          }
        },
        "1eaf228ef6394916af1b4f95074765c1": {
          "model_module": "@jupyter-widgets/controls",
          "model_name": "HTMLModel",
          "model_module_version": "1.5.0",
          "state": {
            "_dom_classes": [],
            "_model_module": "@jupyter-widgets/controls",
            "_model_module_version": "1.5.0",
            "_model_name": "HTMLModel",
            "_view_count": null,
            "_view_module": "@jupyter-widgets/controls",
            "_view_module_version": "1.5.0",
            "_view_name": "HTMLView",
            "description": "",
            "description_tooltip": null,
            "layout": "IPY_MODEL_30891bcbb64943388052a1105fb1ad72",
            "placeholder": "​",
            "style": "IPY_MODEL_e87eb38e76ca43c2b85285cfd76fe48d",
            "value": " 3/3 [00:57&lt;00:00, 19.91s/ splits]"
          }
        },
        "c4320fc55b8b444481c3bd8b34247854": {
          "model_module": "@jupyter-widgets/base",
          "model_name": "LayoutModel",
          "model_module_version": "1.2.0",
          "state": {
            "_model_module": "@jupyter-widgets/base",
            "_model_module_version": "1.2.0",
            "_model_name": "LayoutModel",
            "_view_count": null,
            "_view_module": "@jupyter-widgets/base",
            "_view_module_version": "1.2.0",
            "_view_name": "LayoutView",
            "align_content": null,
            "align_items": null,
            "align_self": null,
            "border": null,
            "bottom": null,
            "display": null,
            "flex": null,
            "flex_flow": null,
            "grid_area": null,
            "grid_auto_columns": null,
            "grid_auto_flow": null,
            "grid_auto_rows": null,
            "grid_column": null,
            "grid_gap": null,
            "grid_row": null,
            "grid_template_areas": null,
            "grid_template_columns": null,
            "grid_template_rows": null,
            "height": null,
            "justify_content": null,
            "justify_items": null,
            "left": null,
            "margin": null,
            "max_height": null,
            "max_width": null,
            "min_height": null,
            "min_width": null,
            "object_fit": null,
            "object_position": null,
            "order": null,
            "overflow": null,
            "overflow_x": null,
            "overflow_y": null,
            "padding": null,
            "right": null,
            "top": null,
            "visibility": "hidden",
            "width": null
          }
        },
        "f7891b76862843f18b35ccaae8753f1e": {
          "model_module": "@jupyter-widgets/base",
          "model_name": "LayoutModel",
          "model_module_version": "1.2.0",
          "state": {
            "_model_module": "@jupyter-widgets/base",
            "_model_module_version": "1.2.0",
            "_model_name": "LayoutModel",
            "_view_count": null,
            "_view_module": "@jupyter-widgets/base",
            "_view_module_version": "1.2.0",
            "_view_name": "LayoutView",
            "align_content": null,
            "align_items": null,
            "align_self": null,
            "border": null,
            "bottom": null,
            "display": null,
            "flex": null,
            "flex_flow": null,
            "grid_area": null,
            "grid_auto_columns": null,
            "grid_auto_flow": null,
            "grid_auto_rows": null,
            "grid_column": null,
            "grid_gap": null,
            "grid_row": null,
            "grid_template_areas": null,
            "grid_template_columns": null,
            "grid_template_rows": null,
            "height": null,
            "justify_content": null,
            "justify_items": null,
            "left": null,
            "margin": null,
            "max_height": null,
            "max_width": null,
            "min_height": null,
            "min_width": null,
            "object_fit": null,
            "object_position": null,
            "order": null,
            "overflow": null,
            "overflow_x": null,
            "overflow_y": null,
            "padding": null,
            "right": null,
            "top": null,
            "visibility": null,
            "width": null
          }
        },
        "c558b14c606f46e2a4ed644116a2c337": {
          "model_module": "@jupyter-widgets/controls",
          "model_name": "DescriptionStyleModel",
          "model_module_version": "1.5.0",
          "state": {
            "_model_module": "@jupyter-widgets/controls",
            "_model_module_version": "1.5.0",
            "_model_name": "DescriptionStyleModel",
            "_view_count": null,
            "_view_module": "@jupyter-widgets/base",
            "_view_module_version": "1.2.0",
            "_view_name": "StyleView",
            "description_width": ""
          }
        },
        "7662aa37ba7740f3bb08fd4a01a934cb": {
          "model_module": "@jupyter-widgets/base",
          "model_name": "LayoutModel",
          "model_module_version": "1.2.0",
          "state": {
            "_model_module": "@jupyter-widgets/base",
            "_model_module_version": "1.2.0",
            "_model_name": "LayoutModel",
            "_view_count": null,
            "_view_module": "@jupyter-widgets/base",
            "_view_module_version": "1.2.0",
            "_view_name": "LayoutView",
            "align_content": null,
            "align_items": null,
            "align_self": null,
            "border": null,
            "bottom": null,
            "display": null,
            "flex": null,
            "flex_flow": null,
            "grid_area": null,
            "grid_auto_columns": null,
            "grid_auto_flow": null,
            "grid_auto_rows": null,
            "grid_column": null,
            "grid_gap": null,
            "grid_row": null,
            "grid_template_areas": null,
            "grid_template_columns": null,
            "grid_template_rows": null,
            "height": null,
            "justify_content": null,
            "justify_items": null,
            "left": null,
            "margin": null,
            "max_height": null,
            "max_width": null,
            "min_height": null,
            "min_width": null,
            "object_fit": null,
            "object_position": null,
            "order": null,
            "overflow": null,
            "overflow_x": null,
            "overflow_y": null,
            "padding": null,
            "right": null,
            "top": null,
            "visibility": null,
            "width": null
          }
        },
        "505880afdf72417c9e09138f770ce1d0": {
          "model_module": "@jupyter-widgets/controls",
          "model_name": "ProgressStyleModel",
          "model_module_version": "1.5.0",
          "state": {
            "_model_module": "@jupyter-widgets/controls",
            "_model_module_version": "1.5.0",
            "_model_name": "ProgressStyleModel",
            "_view_count": null,
            "_view_module": "@jupyter-widgets/base",
            "_view_module_version": "1.2.0",
            "_view_name": "StyleView",
            "bar_color": null,
            "description_width": ""
          }
        },
        "30891bcbb64943388052a1105fb1ad72": {
          "model_module": "@jupyter-widgets/base",
          "model_name": "LayoutModel",
          "model_module_version": "1.2.0",
          "state": {
            "_model_module": "@jupyter-widgets/base",
            "_model_module_version": "1.2.0",
            "_model_name": "LayoutModel",
            "_view_count": null,
            "_view_module": "@jupyter-widgets/base",
            "_view_module_version": "1.2.0",
            "_view_name": "LayoutView",
            "align_content": null,
            "align_items": null,
            "align_self": null,
            "border": null,
            "bottom": null,
            "display": null,
            "flex": null,
            "flex_flow": null,
            "grid_area": null,
            "grid_auto_columns": null,
            "grid_auto_flow": null,
            "grid_auto_rows": null,
            "grid_column": null,
            "grid_gap": null,
            "grid_row": null,
            "grid_template_areas": null,
            "grid_template_columns": null,
            "grid_template_rows": null,
            "height": null,
            "justify_content": null,
            "justify_items": null,
            "left": null,
            "margin": null,
            "max_height": null,
            "max_width": null,
            "min_height": null,
            "min_width": null,
            "object_fit": null,
            "object_position": null,
            "order": null,
            "overflow": null,
            "overflow_x": null,
            "overflow_y": null,
            "padding": null,
            "right": null,
            "top": null,
            "visibility": null,
            "width": null
          }
        },
        "e87eb38e76ca43c2b85285cfd76fe48d": {
          "model_module": "@jupyter-widgets/controls",
          "model_name": "DescriptionStyleModel",
          "model_module_version": "1.5.0",
          "state": {
            "_model_module": "@jupyter-widgets/controls",
            "_model_module_version": "1.5.0",
            "_model_name": "DescriptionStyleModel",
            "_view_count": null,
            "_view_module": "@jupyter-widgets/base",
            "_view_module_version": "1.2.0",
            "_view_name": "StyleView",
            "description_width": ""
          }
        },
        "2a179ad5c6db4d30b0626619855c14ce": {
          "model_module": "@jupyter-widgets/controls",
          "model_name": "HBoxModel",
          "model_module_version": "1.5.0",
          "state": {
            "_dom_classes": [],
            "_model_module": "@jupyter-widgets/controls",
            "_model_module_version": "1.5.0",
            "_model_name": "HBoxModel",
            "_view_count": null,
            "_view_module": "@jupyter-widgets/controls",
            "_view_module_version": "1.5.0",
            "_view_name": "HBoxView",
            "box_style": "",
            "children": [
              "IPY_MODEL_9001728cea8c4dfba4a1df28dd10a67a",
              "IPY_MODEL_27c6858fff684790b5b069c12839b198",
              "IPY_MODEL_dea6285fc55d40baa92d4d8d88c0fc76"
            ],
            "layout": "IPY_MODEL_51bb76f6987346179d624bbfa4a6bf53"
          }
        },
        "9001728cea8c4dfba4a1df28dd10a67a": {
          "model_module": "@jupyter-widgets/controls",
          "model_name": "HTMLModel",
          "model_module_version": "1.5.0",
          "state": {
            "_dom_classes": [],
            "_model_module": "@jupyter-widgets/controls",
            "_model_module_version": "1.5.0",
            "_model_name": "HTMLModel",
            "_view_count": null,
            "_view_module": "@jupyter-widgets/controls",
            "_view_module_version": "1.5.0",
            "_view_name": "HTMLView",
            "description": "",
            "description_tooltip": null,
            "layout": "IPY_MODEL_43e442e373f24ee98cbf423b356b344e",
            "placeholder": "​",
            "style": "IPY_MODEL_34be2241cb1049b99fcc42511c7c49d4",
            "value": "Generating train examples...: 100%"
          }
        },
        "27c6858fff684790b5b069c12839b198": {
          "model_module": "@jupyter-widgets/controls",
          "model_name": "FloatProgressModel",
          "model_module_version": "1.5.0",
          "state": {
            "_dom_classes": [],
            "_model_module": "@jupyter-widgets/controls",
            "_model_module_version": "1.5.0",
            "_model_name": "FloatProgressModel",
            "_view_count": null,
            "_view_module": "@jupyter-widgets/controls",
            "_view_module_version": "1.5.0",
            "_view_name": "ProgressView",
            "bar_style": "",
            "description": "",
            "description_tooltip": null,
            "layout": "IPY_MODEL_400ab3bf4b9043168797291b7fb89171",
            "max": 25000,
            "min": 0,
            "orientation": "horizontal",
            "style": "IPY_MODEL_3cdca7f9313f4718a1a2000ccdf7c707",
            "value": 25000
          }
        },
        "dea6285fc55d40baa92d4d8d88c0fc76": {
          "model_module": "@jupyter-widgets/controls",
          "model_name": "HTMLModel",
          "model_module_version": "1.5.0",
          "state": {
            "_dom_classes": [],
            "_model_module": "@jupyter-widgets/controls",
            "_model_module_version": "1.5.0",
            "_model_name": "HTMLModel",
            "_view_count": null,
            "_view_module": "@jupyter-widgets/controls",
            "_view_module_version": "1.5.0",
            "_view_name": "HTMLView",
            "description": "",
            "description_tooltip": null,
            "layout": "IPY_MODEL_b8f686b7bdbf4268b0dfbc6c36f69997",
            "placeholder": "​",
            "style": "IPY_MODEL_33ee89093a3447dbb5b2f594378d1fa2",
            "value": " 24995/25000 [00:09&lt;00:00, 4135.94 examples/s]"
          }
        },
        "51bb76f6987346179d624bbfa4a6bf53": {
          "model_module": "@jupyter-widgets/base",
          "model_name": "LayoutModel",
          "model_module_version": "1.2.0",
          "state": {
            "_model_module": "@jupyter-widgets/base",
            "_model_module_version": "1.2.0",
            "_model_name": "LayoutModel",
            "_view_count": null,
            "_view_module": "@jupyter-widgets/base",
            "_view_module_version": "1.2.0",
            "_view_name": "LayoutView",
            "align_content": null,
            "align_items": null,
            "align_self": null,
            "border": null,
            "bottom": null,
            "display": null,
            "flex": null,
            "flex_flow": null,
            "grid_area": null,
            "grid_auto_columns": null,
            "grid_auto_flow": null,
            "grid_auto_rows": null,
            "grid_column": null,
            "grid_gap": null,
            "grid_row": null,
            "grid_template_areas": null,
            "grid_template_columns": null,
            "grid_template_rows": null,
            "height": null,
            "justify_content": null,
            "justify_items": null,
            "left": null,
            "margin": null,
            "max_height": null,
            "max_width": null,
            "min_height": null,
            "min_width": null,
            "object_fit": null,
            "object_position": null,
            "order": null,
            "overflow": null,
            "overflow_x": null,
            "overflow_y": null,
            "padding": null,
            "right": null,
            "top": null,
            "visibility": "hidden",
            "width": null
          }
        },
        "43e442e373f24ee98cbf423b356b344e": {
          "model_module": "@jupyter-widgets/base",
          "model_name": "LayoutModel",
          "model_module_version": "1.2.0",
          "state": {
            "_model_module": "@jupyter-widgets/base",
            "_model_module_version": "1.2.0",
            "_model_name": "LayoutModel",
            "_view_count": null,
            "_view_module": "@jupyter-widgets/base",
            "_view_module_version": "1.2.0",
            "_view_name": "LayoutView",
            "align_content": null,
            "align_items": null,
            "align_self": null,
            "border": null,
            "bottom": null,
            "display": null,
            "flex": null,
            "flex_flow": null,
            "grid_area": null,
            "grid_auto_columns": null,
            "grid_auto_flow": null,
            "grid_auto_rows": null,
            "grid_column": null,
            "grid_gap": null,
            "grid_row": null,
            "grid_template_areas": null,
            "grid_template_columns": null,
            "grid_template_rows": null,
            "height": null,
            "justify_content": null,
            "justify_items": null,
            "left": null,
            "margin": null,
            "max_height": null,
            "max_width": null,
            "min_height": null,
            "min_width": null,
            "object_fit": null,
            "object_position": null,
            "order": null,
            "overflow": null,
            "overflow_x": null,
            "overflow_y": null,
            "padding": null,
            "right": null,
            "top": null,
            "visibility": null,
            "width": null
          }
        },
        "34be2241cb1049b99fcc42511c7c49d4": {
          "model_module": "@jupyter-widgets/controls",
          "model_name": "DescriptionStyleModel",
          "model_module_version": "1.5.0",
          "state": {
            "_model_module": "@jupyter-widgets/controls",
            "_model_module_version": "1.5.0",
            "_model_name": "DescriptionStyleModel",
            "_view_count": null,
            "_view_module": "@jupyter-widgets/base",
            "_view_module_version": "1.2.0",
            "_view_name": "StyleView",
            "description_width": ""
          }
        },
        "400ab3bf4b9043168797291b7fb89171": {
          "model_module": "@jupyter-widgets/base",
          "model_name": "LayoutModel",
          "model_module_version": "1.2.0",
          "state": {
            "_model_module": "@jupyter-widgets/base",
            "_model_module_version": "1.2.0",
            "_model_name": "LayoutModel",
            "_view_count": null,
            "_view_module": "@jupyter-widgets/base",
            "_view_module_version": "1.2.0",
            "_view_name": "LayoutView",
            "align_content": null,
            "align_items": null,
            "align_self": null,
            "border": null,
            "bottom": null,
            "display": null,
            "flex": null,
            "flex_flow": null,
            "grid_area": null,
            "grid_auto_columns": null,
            "grid_auto_flow": null,
            "grid_auto_rows": null,
            "grid_column": null,
            "grid_gap": null,
            "grid_row": null,
            "grid_template_areas": null,
            "grid_template_columns": null,
            "grid_template_rows": null,
            "height": null,
            "justify_content": null,
            "justify_items": null,
            "left": null,
            "margin": null,
            "max_height": null,
            "max_width": null,
            "min_height": null,
            "min_width": null,
            "object_fit": null,
            "object_position": null,
            "order": null,
            "overflow": null,
            "overflow_x": null,
            "overflow_y": null,
            "padding": null,
            "right": null,
            "top": null,
            "visibility": null,
            "width": null
          }
        },
        "3cdca7f9313f4718a1a2000ccdf7c707": {
          "model_module": "@jupyter-widgets/controls",
          "model_name": "ProgressStyleModel",
          "model_module_version": "1.5.0",
          "state": {
            "_model_module": "@jupyter-widgets/controls",
            "_model_module_version": "1.5.0",
            "_model_name": "ProgressStyleModel",
            "_view_count": null,
            "_view_module": "@jupyter-widgets/base",
            "_view_module_version": "1.2.0",
            "_view_name": "StyleView",
            "bar_color": null,
            "description_width": ""
          }
        },
        "b8f686b7bdbf4268b0dfbc6c36f69997": {
          "model_module": "@jupyter-widgets/base",
          "model_name": "LayoutModel",
          "model_module_version": "1.2.0",
          "state": {
            "_model_module": "@jupyter-widgets/base",
            "_model_module_version": "1.2.0",
            "_model_name": "LayoutModel",
            "_view_count": null,
            "_view_module": "@jupyter-widgets/base",
            "_view_module_version": "1.2.0",
            "_view_name": "LayoutView",
            "align_content": null,
            "align_items": null,
            "align_self": null,
            "border": null,
            "bottom": null,
            "display": null,
            "flex": null,
            "flex_flow": null,
            "grid_area": null,
            "grid_auto_columns": null,
            "grid_auto_flow": null,
            "grid_auto_rows": null,
            "grid_column": null,
            "grid_gap": null,
            "grid_row": null,
            "grid_template_areas": null,
            "grid_template_columns": null,
            "grid_template_rows": null,
            "height": null,
            "justify_content": null,
            "justify_items": null,
            "left": null,
            "margin": null,
            "max_height": null,
            "max_width": null,
            "min_height": null,
            "min_width": null,
            "object_fit": null,
            "object_position": null,
            "order": null,
            "overflow": null,
            "overflow_x": null,
            "overflow_y": null,
            "padding": null,
            "right": null,
            "top": null,
            "visibility": null,
            "width": null
          }
        },
        "33ee89093a3447dbb5b2f594378d1fa2": {
          "model_module": "@jupyter-widgets/controls",
          "model_name": "DescriptionStyleModel",
          "model_module_version": "1.5.0",
          "state": {
            "_model_module": "@jupyter-widgets/controls",
            "_model_module_version": "1.5.0",
            "_model_name": "DescriptionStyleModel",
            "_view_count": null,
            "_view_module": "@jupyter-widgets/base",
            "_view_module_version": "1.2.0",
            "_view_name": "StyleView",
            "description_width": ""
          }
        },
        "4349570daf4142ea9647e802d6ea6519": {
          "model_module": "@jupyter-widgets/controls",
          "model_name": "HBoxModel",
          "model_module_version": "1.5.0",
          "state": {
            "_dom_classes": [],
            "_model_module": "@jupyter-widgets/controls",
            "_model_module_version": "1.5.0",
            "_model_name": "HBoxModel",
            "_view_count": null,
            "_view_module": "@jupyter-widgets/controls",
            "_view_module_version": "1.5.0",
            "_view_name": "HBoxView",
            "box_style": "",
            "children": [
              "IPY_MODEL_05d25c3422014c07983010c2d0ba35f4",
              "IPY_MODEL_3359feedb4bc453fbe393b7f093d3bed",
              "IPY_MODEL_c992759789c14e1c877e07129ed85e91"
            ],
            "layout": "IPY_MODEL_c7ff01b16935476d8d3227deb67eb0d5"
          }
        },
        "05d25c3422014c07983010c2d0ba35f4": {
          "model_module": "@jupyter-widgets/controls",
          "model_name": "HTMLModel",
          "model_module_version": "1.5.0",
          "state": {
            "_dom_classes": [],
            "_model_module": "@jupyter-widgets/controls",
            "_model_module_version": "1.5.0",
            "_model_name": "HTMLModel",
            "_view_count": null,
            "_view_module": "@jupyter-widgets/controls",
            "_view_module_version": "1.5.0",
            "_view_name": "HTMLView",
            "description": "",
            "description_tooltip": null,
            "layout": "IPY_MODEL_e21f1375446e4c16b27826f916f8e981",
            "placeholder": "​",
            "style": "IPY_MODEL_b9f11ee8232e4fa68846f77676bd1b80",
            "value": "Shuffling /root/tensorflow_datasets/imdb_reviews/plain_text/1.0.0.incompleteA53K9O/imdb_reviews-train.tfrecord*...:  35%"
          }
        },
        "3359feedb4bc453fbe393b7f093d3bed": {
          "model_module": "@jupyter-widgets/controls",
          "model_name": "FloatProgressModel",
          "model_module_version": "1.5.0",
          "state": {
            "_dom_classes": [],
            "_model_module": "@jupyter-widgets/controls",
            "_model_module_version": "1.5.0",
            "_model_name": "FloatProgressModel",
            "_view_count": null,
            "_view_module": "@jupyter-widgets/controls",
            "_view_module_version": "1.5.0",
            "_view_name": "ProgressView",
            "bar_style": "",
            "description": "",
            "description_tooltip": null,
            "layout": "IPY_MODEL_6a597cd96d4041b3868a109e12f9bb2c",
            "max": 25000,
            "min": 0,
            "orientation": "horizontal",
            "style": "IPY_MODEL_f049bfed80634f11ae18c0e944382060",
            "value": 25000
          }
        },
        "c992759789c14e1c877e07129ed85e91": {
          "model_module": "@jupyter-widgets/controls",
          "model_name": "HTMLModel",
          "model_module_version": "1.5.0",
          "state": {
            "_dom_classes": [],
            "_model_module": "@jupyter-widgets/controls",
            "_model_module_version": "1.5.0",
            "_model_name": "HTMLModel",
            "_view_count": null,
            "_view_module": "@jupyter-widgets/controls",
            "_view_module_version": "1.5.0",
            "_view_name": "HTMLView",
            "description": "",
            "description_tooltip": null,
            "layout": "IPY_MODEL_944bbd4140fb4977b85b7a009cd8ab9c",
            "placeholder": "​",
            "style": "IPY_MODEL_1ee096f0fa784996aca08ae6d0321698",
            "value": " 8828/25000 [00:00&lt;00:00, 88265.98 examples/s]"
          }
        },
        "c7ff01b16935476d8d3227deb67eb0d5": {
          "model_module": "@jupyter-widgets/base",
          "model_name": "LayoutModel",
          "model_module_version": "1.2.0",
          "state": {
            "_model_module": "@jupyter-widgets/base",
            "_model_module_version": "1.2.0",
            "_model_name": "LayoutModel",
            "_view_count": null,
            "_view_module": "@jupyter-widgets/base",
            "_view_module_version": "1.2.0",
            "_view_name": "LayoutView",
            "align_content": null,
            "align_items": null,
            "align_self": null,
            "border": null,
            "bottom": null,
            "display": null,
            "flex": null,
            "flex_flow": null,
            "grid_area": null,
            "grid_auto_columns": null,
            "grid_auto_flow": null,
            "grid_auto_rows": null,
            "grid_column": null,
            "grid_gap": null,
            "grid_row": null,
            "grid_template_areas": null,
            "grid_template_columns": null,
            "grid_template_rows": null,
            "height": null,
            "justify_content": null,
            "justify_items": null,
            "left": null,
            "margin": null,
            "max_height": null,
            "max_width": null,
            "min_height": null,
            "min_width": null,
            "object_fit": null,
            "object_position": null,
            "order": null,
            "overflow": null,
            "overflow_x": null,
            "overflow_y": null,
            "padding": null,
            "right": null,
            "top": null,
            "visibility": "hidden",
            "width": null
          }
        },
        "e21f1375446e4c16b27826f916f8e981": {
          "model_module": "@jupyter-widgets/base",
          "model_name": "LayoutModel",
          "model_module_version": "1.2.0",
          "state": {
            "_model_module": "@jupyter-widgets/base",
            "_model_module_version": "1.2.0",
            "_model_name": "LayoutModel",
            "_view_count": null,
            "_view_module": "@jupyter-widgets/base",
            "_view_module_version": "1.2.0",
            "_view_name": "LayoutView",
            "align_content": null,
            "align_items": null,
            "align_self": null,
            "border": null,
            "bottom": null,
            "display": null,
            "flex": null,
            "flex_flow": null,
            "grid_area": null,
            "grid_auto_columns": null,
            "grid_auto_flow": null,
            "grid_auto_rows": null,
            "grid_column": null,
            "grid_gap": null,
            "grid_row": null,
            "grid_template_areas": null,
            "grid_template_columns": null,
            "grid_template_rows": null,
            "height": null,
            "justify_content": null,
            "justify_items": null,
            "left": null,
            "margin": null,
            "max_height": null,
            "max_width": null,
            "min_height": null,
            "min_width": null,
            "object_fit": null,
            "object_position": null,
            "order": null,
            "overflow": null,
            "overflow_x": null,
            "overflow_y": null,
            "padding": null,
            "right": null,
            "top": null,
            "visibility": null,
            "width": null
          }
        },
        "b9f11ee8232e4fa68846f77676bd1b80": {
          "model_module": "@jupyter-widgets/controls",
          "model_name": "DescriptionStyleModel",
          "model_module_version": "1.5.0",
          "state": {
            "_model_module": "@jupyter-widgets/controls",
            "_model_module_version": "1.5.0",
            "_model_name": "DescriptionStyleModel",
            "_view_count": null,
            "_view_module": "@jupyter-widgets/base",
            "_view_module_version": "1.2.0",
            "_view_name": "StyleView",
            "description_width": ""
          }
        },
        "6a597cd96d4041b3868a109e12f9bb2c": {
          "model_module": "@jupyter-widgets/base",
          "model_name": "LayoutModel",
          "model_module_version": "1.2.0",
          "state": {
            "_model_module": "@jupyter-widgets/base",
            "_model_module_version": "1.2.0",
            "_model_name": "LayoutModel",
            "_view_count": null,
            "_view_module": "@jupyter-widgets/base",
            "_view_module_version": "1.2.0",
            "_view_name": "LayoutView",
            "align_content": null,
            "align_items": null,
            "align_self": null,
            "border": null,
            "bottom": null,
            "display": null,
            "flex": null,
            "flex_flow": null,
            "grid_area": null,
            "grid_auto_columns": null,
            "grid_auto_flow": null,
            "grid_auto_rows": null,
            "grid_column": null,
            "grid_gap": null,
            "grid_row": null,
            "grid_template_areas": null,
            "grid_template_columns": null,
            "grid_template_rows": null,
            "height": null,
            "justify_content": null,
            "justify_items": null,
            "left": null,
            "margin": null,
            "max_height": null,
            "max_width": null,
            "min_height": null,
            "min_width": null,
            "object_fit": null,
            "object_position": null,
            "order": null,
            "overflow": null,
            "overflow_x": null,
            "overflow_y": null,
            "padding": null,
            "right": null,
            "top": null,
            "visibility": null,
            "width": null
          }
        },
        "f049bfed80634f11ae18c0e944382060": {
          "model_module": "@jupyter-widgets/controls",
          "model_name": "ProgressStyleModel",
          "model_module_version": "1.5.0",
          "state": {
            "_model_module": "@jupyter-widgets/controls",
            "_model_module_version": "1.5.0",
            "_model_name": "ProgressStyleModel",
            "_view_count": null,
            "_view_module": "@jupyter-widgets/base",
            "_view_module_version": "1.2.0",
            "_view_name": "StyleView",
            "bar_color": null,
            "description_width": ""
          }
        },
        "944bbd4140fb4977b85b7a009cd8ab9c": {
          "model_module": "@jupyter-widgets/base",
          "model_name": "LayoutModel",
          "model_module_version": "1.2.0",
          "state": {
            "_model_module": "@jupyter-widgets/base",
            "_model_module_version": "1.2.0",
            "_model_name": "LayoutModel",
            "_view_count": null,
            "_view_module": "@jupyter-widgets/base",
            "_view_module_version": "1.2.0",
            "_view_name": "LayoutView",
            "align_content": null,
            "align_items": null,
            "align_self": null,
            "border": null,
            "bottom": null,
            "display": null,
            "flex": null,
            "flex_flow": null,
            "grid_area": null,
            "grid_auto_columns": null,
            "grid_auto_flow": null,
            "grid_auto_rows": null,
            "grid_column": null,
            "grid_gap": null,
            "grid_row": null,
            "grid_template_areas": null,
            "grid_template_columns": null,
            "grid_template_rows": null,
            "height": null,
            "justify_content": null,
            "justify_items": null,
            "left": null,
            "margin": null,
            "max_height": null,
            "max_width": null,
            "min_height": null,
            "min_width": null,
            "object_fit": null,
            "object_position": null,
            "order": null,
            "overflow": null,
            "overflow_x": null,
            "overflow_y": null,
            "padding": null,
            "right": null,
            "top": null,
            "visibility": null,
            "width": null
          }
        },
        "1ee096f0fa784996aca08ae6d0321698": {
          "model_module": "@jupyter-widgets/controls",
          "model_name": "DescriptionStyleModel",
          "model_module_version": "1.5.0",
          "state": {
            "_model_module": "@jupyter-widgets/controls",
            "_model_module_version": "1.5.0",
            "_model_name": "DescriptionStyleModel",
            "_view_count": null,
            "_view_module": "@jupyter-widgets/base",
            "_view_module_version": "1.2.0",
            "_view_name": "StyleView",
            "description_width": ""
          }
        },
        "31c04265cf014f29ab4003bbba7ef2c4": {
          "model_module": "@jupyter-widgets/controls",
          "model_name": "HBoxModel",
          "model_module_version": "1.5.0",
          "state": {
            "_dom_classes": [],
            "_model_module": "@jupyter-widgets/controls",
            "_model_module_version": "1.5.0",
            "_model_name": "HBoxModel",
            "_view_count": null,
            "_view_module": "@jupyter-widgets/controls",
            "_view_module_version": "1.5.0",
            "_view_name": "HBoxView",
            "box_style": "",
            "children": [
              "IPY_MODEL_acb803e04c2a4921976dc3f68f49a772",
              "IPY_MODEL_eaaf6e24fc17445c849e2f008b9e6db3",
              "IPY_MODEL_1d4bb4ed852c4fa19369e601a3bad432"
            ],
            "layout": "IPY_MODEL_28c16a89330947ebbf55fca87c275ec9"
          }
        },
        "acb803e04c2a4921976dc3f68f49a772": {
          "model_module": "@jupyter-widgets/controls",
          "model_name": "HTMLModel",
          "model_module_version": "1.5.0",
          "state": {
            "_dom_classes": [],
            "_model_module": "@jupyter-widgets/controls",
            "_model_module_version": "1.5.0",
            "_model_name": "HTMLModel",
            "_view_count": null,
            "_view_module": "@jupyter-widgets/controls",
            "_view_module_version": "1.5.0",
            "_view_name": "HTMLView",
            "description": "",
            "description_tooltip": null,
            "layout": "IPY_MODEL_3c16a7aa977f4366bf295fe9de5043dc",
            "placeholder": "​",
            "style": "IPY_MODEL_4ee7c0b03abf4924acff3e382ac6c5df",
            "value": "Generating test examples...:  99%"
          }
        },
        "eaaf6e24fc17445c849e2f008b9e6db3": {
          "model_module": "@jupyter-widgets/controls",
          "model_name": "FloatProgressModel",
          "model_module_version": "1.5.0",
          "state": {
            "_dom_classes": [],
            "_model_module": "@jupyter-widgets/controls",
            "_model_module_version": "1.5.0",
            "_model_name": "FloatProgressModel",
            "_view_count": null,
            "_view_module": "@jupyter-widgets/controls",
            "_view_module_version": "1.5.0",
            "_view_name": "ProgressView",
            "bar_style": "",
            "description": "",
            "description_tooltip": null,
            "layout": "IPY_MODEL_fac56318874b493db0bb062b90bd570d",
            "max": 25000,
            "min": 0,
            "orientation": "horizontal",
            "style": "IPY_MODEL_ed58fa8676384b6f8c13ef90fa517097",
            "value": 25000
          }
        },
        "1d4bb4ed852c4fa19369e601a3bad432": {
          "model_module": "@jupyter-widgets/controls",
          "model_name": "HTMLModel",
          "model_module_version": "1.5.0",
          "state": {
            "_dom_classes": [],
            "_model_module": "@jupyter-widgets/controls",
            "_model_module_version": "1.5.0",
            "_model_name": "HTMLModel",
            "_view_count": null,
            "_view_module": "@jupyter-widgets/controls",
            "_view_module_version": "1.5.0",
            "_view_name": "HTMLView",
            "description": "",
            "description_tooltip": null,
            "layout": "IPY_MODEL_3c738932944143e8ab54c641f5675da6",
            "placeholder": "​",
            "style": "IPY_MODEL_c7502b189a9449ae9a30d6bc4561d62e",
            "value": " 24867/25000 [00:20&lt;00:00, 2050.77 examples/s]"
          }
        },
        "28c16a89330947ebbf55fca87c275ec9": {
          "model_module": "@jupyter-widgets/base",
          "model_name": "LayoutModel",
          "model_module_version": "1.2.0",
          "state": {
            "_model_module": "@jupyter-widgets/base",
            "_model_module_version": "1.2.0",
            "_model_name": "LayoutModel",
            "_view_count": null,
            "_view_module": "@jupyter-widgets/base",
            "_view_module_version": "1.2.0",
            "_view_name": "LayoutView",
            "align_content": null,
            "align_items": null,
            "align_self": null,
            "border": null,
            "bottom": null,
            "display": null,
            "flex": null,
            "flex_flow": null,
            "grid_area": null,
            "grid_auto_columns": null,
            "grid_auto_flow": null,
            "grid_auto_rows": null,
            "grid_column": null,
            "grid_gap": null,
            "grid_row": null,
            "grid_template_areas": null,
            "grid_template_columns": null,
            "grid_template_rows": null,
            "height": null,
            "justify_content": null,
            "justify_items": null,
            "left": null,
            "margin": null,
            "max_height": null,
            "max_width": null,
            "min_height": null,
            "min_width": null,
            "object_fit": null,
            "object_position": null,
            "order": null,
            "overflow": null,
            "overflow_x": null,
            "overflow_y": null,
            "padding": null,
            "right": null,
            "top": null,
            "visibility": "hidden",
            "width": null
          }
        },
        "3c16a7aa977f4366bf295fe9de5043dc": {
          "model_module": "@jupyter-widgets/base",
          "model_name": "LayoutModel",
          "model_module_version": "1.2.0",
          "state": {
            "_model_module": "@jupyter-widgets/base",
            "_model_module_version": "1.2.0",
            "_model_name": "LayoutModel",
            "_view_count": null,
            "_view_module": "@jupyter-widgets/base",
            "_view_module_version": "1.2.0",
            "_view_name": "LayoutView",
            "align_content": null,
            "align_items": null,
            "align_self": null,
            "border": null,
            "bottom": null,
            "display": null,
            "flex": null,
            "flex_flow": null,
            "grid_area": null,
            "grid_auto_columns": null,
            "grid_auto_flow": null,
            "grid_auto_rows": null,
            "grid_column": null,
            "grid_gap": null,
            "grid_row": null,
            "grid_template_areas": null,
            "grid_template_columns": null,
            "grid_template_rows": null,
            "height": null,
            "justify_content": null,
            "justify_items": null,
            "left": null,
            "margin": null,
            "max_height": null,
            "max_width": null,
            "min_height": null,
            "min_width": null,
            "object_fit": null,
            "object_position": null,
            "order": null,
            "overflow": null,
            "overflow_x": null,
            "overflow_y": null,
            "padding": null,
            "right": null,
            "top": null,
            "visibility": null,
            "width": null
          }
        },
        "4ee7c0b03abf4924acff3e382ac6c5df": {
          "model_module": "@jupyter-widgets/controls",
          "model_name": "DescriptionStyleModel",
          "model_module_version": "1.5.0",
          "state": {
            "_model_module": "@jupyter-widgets/controls",
            "_model_module_version": "1.5.0",
            "_model_name": "DescriptionStyleModel",
            "_view_count": null,
            "_view_module": "@jupyter-widgets/base",
            "_view_module_version": "1.2.0",
            "_view_name": "StyleView",
            "description_width": ""
          }
        },
        "fac56318874b493db0bb062b90bd570d": {
          "model_module": "@jupyter-widgets/base",
          "model_name": "LayoutModel",
          "model_module_version": "1.2.0",
          "state": {
            "_model_module": "@jupyter-widgets/base",
            "_model_module_version": "1.2.0",
            "_model_name": "LayoutModel",
            "_view_count": null,
            "_view_module": "@jupyter-widgets/base",
            "_view_module_version": "1.2.0",
            "_view_name": "LayoutView",
            "align_content": null,
            "align_items": null,
            "align_self": null,
            "border": null,
            "bottom": null,
            "display": null,
            "flex": null,
            "flex_flow": null,
            "grid_area": null,
            "grid_auto_columns": null,
            "grid_auto_flow": null,
            "grid_auto_rows": null,
            "grid_column": null,
            "grid_gap": null,
            "grid_row": null,
            "grid_template_areas": null,
            "grid_template_columns": null,
            "grid_template_rows": null,
            "height": null,
            "justify_content": null,
            "justify_items": null,
            "left": null,
            "margin": null,
            "max_height": null,
            "max_width": null,
            "min_height": null,
            "min_width": null,
            "object_fit": null,
            "object_position": null,
            "order": null,
            "overflow": null,
            "overflow_x": null,
            "overflow_y": null,
            "padding": null,
            "right": null,
            "top": null,
            "visibility": null,
            "width": null
          }
        },
        "ed58fa8676384b6f8c13ef90fa517097": {
          "model_module": "@jupyter-widgets/controls",
          "model_name": "ProgressStyleModel",
          "model_module_version": "1.5.0",
          "state": {
            "_model_module": "@jupyter-widgets/controls",
            "_model_module_version": "1.5.0",
            "_model_name": "ProgressStyleModel",
            "_view_count": null,
            "_view_module": "@jupyter-widgets/base",
            "_view_module_version": "1.2.0",
            "_view_name": "StyleView",
            "bar_color": null,
            "description_width": ""
          }
        },
        "3c738932944143e8ab54c641f5675da6": {
          "model_module": "@jupyter-widgets/base",
          "model_name": "LayoutModel",
          "model_module_version": "1.2.0",
          "state": {
            "_model_module": "@jupyter-widgets/base",
            "_model_module_version": "1.2.0",
            "_model_name": "LayoutModel",
            "_view_count": null,
            "_view_module": "@jupyter-widgets/base",
            "_view_module_version": "1.2.0",
            "_view_name": "LayoutView",
            "align_content": null,
            "align_items": null,
            "align_self": null,
            "border": null,
            "bottom": null,
            "display": null,
            "flex": null,
            "flex_flow": null,
            "grid_area": null,
            "grid_auto_columns": null,
            "grid_auto_flow": null,
            "grid_auto_rows": null,
            "grid_column": null,
            "grid_gap": null,
            "grid_row": null,
            "grid_template_areas": null,
            "grid_template_columns": null,
            "grid_template_rows": null,
            "height": null,
            "justify_content": null,
            "justify_items": null,
            "left": null,
            "margin": null,
            "max_height": null,
            "max_width": null,
            "min_height": null,
            "min_width": null,
            "object_fit": null,
            "object_position": null,
            "order": null,
            "overflow": null,
            "overflow_x": null,
            "overflow_y": null,
            "padding": null,
            "right": null,
            "top": null,
            "visibility": null,
            "width": null
          }
        },
        "c7502b189a9449ae9a30d6bc4561d62e": {
          "model_module": "@jupyter-widgets/controls",
          "model_name": "DescriptionStyleModel",
          "model_module_version": "1.5.0",
          "state": {
            "_model_module": "@jupyter-widgets/controls",
            "_model_module_version": "1.5.0",
            "_model_name": "DescriptionStyleModel",
            "_view_count": null,
            "_view_module": "@jupyter-widgets/base",
            "_view_module_version": "1.2.0",
            "_view_name": "StyleView",
            "description_width": ""
          }
        },
        "5ea69b991fab40a0b658f211112f894d": {
          "model_module": "@jupyter-widgets/controls",
          "model_name": "HBoxModel",
          "model_module_version": "1.5.0",
          "state": {
            "_dom_classes": [],
            "_model_module": "@jupyter-widgets/controls",
            "_model_module_version": "1.5.0",
            "_model_name": "HBoxModel",
            "_view_count": null,
            "_view_module": "@jupyter-widgets/controls",
            "_view_module_version": "1.5.0",
            "_view_name": "HBoxView",
            "box_style": "",
            "children": [
              "IPY_MODEL_a329181f42dc40a2b5280ab4a7cf9551",
              "IPY_MODEL_5cee9f5ef0964461a42e48b884c7432b",
              "IPY_MODEL_b5d4dec1c3e54cd991dbf256073bd7ab"
            ],
            "layout": "IPY_MODEL_2c26f168c6fe4ad0a744162f7b655609"
          }
        },
        "a329181f42dc40a2b5280ab4a7cf9551": {
          "model_module": "@jupyter-widgets/controls",
          "model_name": "HTMLModel",
          "model_module_version": "1.5.0",
          "state": {
            "_dom_classes": [],
            "_model_module": "@jupyter-widgets/controls",
            "_model_module_version": "1.5.0",
            "_model_name": "HTMLModel",
            "_view_count": null,
            "_view_module": "@jupyter-widgets/controls",
            "_view_module_version": "1.5.0",
            "_view_name": "HTMLView",
            "description": "",
            "description_tooltip": null,
            "layout": "IPY_MODEL_9a3090cdf234483b87f4138cc200a887",
            "placeholder": "​",
            "style": "IPY_MODEL_4e038c5e74dd4764a7a2fe1aa8aebec6",
            "value": "Shuffling /root/tensorflow_datasets/imdb_reviews/plain_text/1.0.0.incompleteA53K9O/imdb_reviews-test.tfrecord*...:  97%"
          }
        },
        "5cee9f5ef0964461a42e48b884c7432b": {
          "model_module": "@jupyter-widgets/controls",
          "model_name": "FloatProgressModel",
          "model_module_version": "1.5.0",
          "state": {
            "_dom_classes": [],
            "_model_module": "@jupyter-widgets/controls",
            "_model_module_version": "1.5.0",
            "_model_name": "FloatProgressModel",
            "_view_count": null,
            "_view_module": "@jupyter-widgets/controls",
            "_view_module_version": "1.5.0",
            "_view_name": "ProgressView",
            "bar_style": "",
            "description": "",
            "description_tooltip": null,
            "layout": "IPY_MODEL_e1c3474717c543278e2783d69019d1e3",
            "max": 25000,
            "min": 0,
            "orientation": "horizontal",
            "style": "IPY_MODEL_99f06778037641a293f35d2b6ea1dab7",
            "value": 25000
          }
        },
        "b5d4dec1c3e54cd991dbf256073bd7ab": {
          "model_module": "@jupyter-widgets/controls",
          "model_name": "HTMLModel",
          "model_module_version": "1.5.0",
          "state": {
            "_dom_classes": [],
            "_model_module": "@jupyter-widgets/controls",
            "_model_module_version": "1.5.0",
            "_model_name": "HTMLModel",
            "_view_count": null,
            "_view_module": "@jupyter-widgets/controls",
            "_view_module_version": "1.5.0",
            "_view_name": "HTMLView",
            "description": "",
            "description_tooltip": null,
            "layout": "IPY_MODEL_5ca8a116a19e4cdbbe126336c9a3c8b8",
            "placeholder": "​",
            "style": "IPY_MODEL_73f0f69c7ba84bfb9e2f5aaad8c5477d",
            "value": " 24275/25000 [00:00&lt;00:00, 97024.75 examples/s]"
          }
        },
        "2c26f168c6fe4ad0a744162f7b655609": {
          "model_module": "@jupyter-widgets/base",
          "model_name": "LayoutModel",
          "model_module_version": "1.2.0",
          "state": {
            "_model_module": "@jupyter-widgets/base",
            "_model_module_version": "1.2.0",
            "_model_name": "LayoutModel",
            "_view_count": null,
            "_view_module": "@jupyter-widgets/base",
            "_view_module_version": "1.2.0",
            "_view_name": "LayoutView",
            "align_content": null,
            "align_items": null,
            "align_self": null,
            "border": null,
            "bottom": null,
            "display": null,
            "flex": null,
            "flex_flow": null,
            "grid_area": null,
            "grid_auto_columns": null,
            "grid_auto_flow": null,
            "grid_auto_rows": null,
            "grid_column": null,
            "grid_gap": null,
            "grid_row": null,
            "grid_template_areas": null,
            "grid_template_columns": null,
            "grid_template_rows": null,
            "height": null,
            "justify_content": null,
            "justify_items": null,
            "left": null,
            "margin": null,
            "max_height": null,
            "max_width": null,
            "min_height": null,
            "min_width": null,
            "object_fit": null,
            "object_position": null,
            "order": null,
            "overflow": null,
            "overflow_x": null,
            "overflow_y": null,
            "padding": null,
            "right": null,
            "top": null,
            "visibility": "hidden",
            "width": null
          }
        },
        "9a3090cdf234483b87f4138cc200a887": {
          "model_module": "@jupyter-widgets/base",
          "model_name": "LayoutModel",
          "model_module_version": "1.2.0",
          "state": {
            "_model_module": "@jupyter-widgets/base",
            "_model_module_version": "1.2.0",
            "_model_name": "LayoutModel",
            "_view_count": null,
            "_view_module": "@jupyter-widgets/base",
            "_view_module_version": "1.2.0",
            "_view_name": "LayoutView",
            "align_content": null,
            "align_items": null,
            "align_self": null,
            "border": null,
            "bottom": null,
            "display": null,
            "flex": null,
            "flex_flow": null,
            "grid_area": null,
            "grid_auto_columns": null,
            "grid_auto_flow": null,
            "grid_auto_rows": null,
            "grid_column": null,
            "grid_gap": null,
            "grid_row": null,
            "grid_template_areas": null,
            "grid_template_columns": null,
            "grid_template_rows": null,
            "height": null,
            "justify_content": null,
            "justify_items": null,
            "left": null,
            "margin": null,
            "max_height": null,
            "max_width": null,
            "min_height": null,
            "min_width": null,
            "object_fit": null,
            "object_position": null,
            "order": null,
            "overflow": null,
            "overflow_x": null,
            "overflow_y": null,
            "padding": null,
            "right": null,
            "top": null,
            "visibility": null,
            "width": null
          }
        },
        "4e038c5e74dd4764a7a2fe1aa8aebec6": {
          "model_module": "@jupyter-widgets/controls",
          "model_name": "DescriptionStyleModel",
          "model_module_version": "1.5.0",
          "state": {
            "_model_module": "@jupyter-widgets/controls",
            "_model_module_version": "1.5.0",
            "_model_name": "DescriptionStyleModel",
            "_view_count": null,
            "_view_module": "@jupyter-widgets/base",
            "_view_module_version": "1.2.0",
            "_view_name": "StyleView",
            "description_width": ""
          }
        },
        "e1c3474717c543278e2783d69019d1e3": {
          "model_module": "@jupyter-widgets/base",
          "model_name": "LayoutModel",
          "model_module_version": "1.2.0",
          "state": {
            "_model_module": "@jupyter-widgets/base",
            "_model_module_version": "1.2.0",
            "_model_name": "LayoutModel",
            "_view_count": null,
            "_view_module": "@jupyter-widgets/base",
            "_view_module_version": "1.2.0",
            "_view_name": "LayoutView",
            "align_content": null,
            "align_items": null,
            "align_self": null,
            "border": null,
            "bottom": null,
            "display": null,
            "flex": null,
            "flex_flow": null,
            "grid_area": null,
            "grid_auto_columns": null,
            "grid_auto_flow": null,
            "grid_auto_rows": null,
            "grid_column": null,
            "grid_gap": null,
            "grid_row": null,
            "grid_template_areas": null,
            "grid_template_columns": null,
            "grid_template_rows": null,
            "height": null,
            "justify_content": null,
            "justify_items": null,
            "left": null,
            "margin": null,
            "max_height": null,
            "max_width": null,
            "min_height": null,
            "min_width": null,
            "object_fit": null,
            "object_position": null,
            "order": null,
            "overflow": null,
            "overflow_x": null,
            "overflow_y": null,
            "padding": null,
            "right": null,
            "top": null,
            "visibility": null,
            "width": null
          }
        },
        "99f06778037641a293f35d2b6ea1dab7": {
          "model_module": "@jupyter-widgets/controls",
          "model_name": "ProgressStyleModel",
          "model_module_version": "1.5.0",
          "state": {
            "_model_module": "@jupyter-widgets/controls",
            "_model_module_version": "1.5.0",
            "_model_name": "ProgressStyleModel",
            "_view_count": null,
            "_view_module": "@jupyter-widgets/base",
            "_view_module_version": "1.2.0",
            "_view_name": "StyleView",
            "bar_color": null,
            "description_width": ""
          }
        },
        "5ca8a116a19e4cdbbe126336c9a3c8b8": {
          "model_module": "@jupyter-widgets/base",
          "model_name": "LayoutModel",
          "model_module_version": "1.2.0",
          "state": {
            "_model_module": "@jupyter-widgets/base",
            "_model_module_version": "1.2.0",
            "_model_name": "LayoutModel",
            "_view_count": null,
            "_view_module": "@jupyter-widgets/base",
            "_view_module_version": "1.2.0",
            "_view_name": "LayoutView",
            "align_content": null,
            "align_items": null,
            "align_self": null,
            "border": null,
            "bottom": null,
            "display": null,
            "flex": null,
            "flex_flow": null,
            "grid_area": null,
            "grid_auto_columns": null,
            "grid_auto_flow": null,
            "grid_auto_rows": null,
            "grid_column": null,
            "grid_gap": null,
            "grid_row": null,
            "grid_template_areas": null,
            "grid_template_columns": null,
            "grid_template_rows": null,
            "height": null,
            "justify_content": null,
            "justify_items": null,
            "left": null,
            "margin": null,
            "max_height": null,
            "max_width": null,
            "min_height": null,
            "min_width": null,
            "object_fit": null,
            "object_position": null,
            "order": null,
            "overflow": null,
            "overflow_x": null,
            "overflow_y": null,
            "padding": null,
            "right": null,
            "top": null,
            "visibility": null,
            "width": null
          }
        },
        "73f0f69c7ba84bfb9e2f5aaad8c5477d": {
          "model_module": "@jupyter-widgets/controls",
          "model_name": "DescriptionStyleModel",
          "model_module_version": "1.5.0",
          "state": {
            "_model_module": "@jupyter-widgets/controls",
            "_model_module_version": "1.5.0",
            "_model_name": "DescriptionStyleModel",
            "_view_count": null,
            "_view_module": "@jupyter-widgets/base",
            "_view_module_version": "1.2.0",
            "_view_name": "StyleView",
            "description_width": ""
          }
        },
        "88268e401c524af38a9a3249f166cab3": {
          "model_module": "@jupyter-widgets/controls",
          "model_name": "HBoxModel",
          "model_module_version": "1.5.0",
          "state": {
            "_dom_classes": [],
            "_model_module": "@jupyter-widgets/controls",
            "_model_module_version": "1.5.0",
            "_model_name": "HBoxModel",
            "_view_count": null,
            "_view_module": "@jupyter-widgets/controls",
            "_view_module_version": "1.5.0",
            "_view_name": "HBoxView",
            "box_style": "",
            "children": [
              "IPY_MODEL_eec53441e3f74a4b93c678f4f4279629",
              "IPY_MODEL_42bb21e415e849b185126127318b47ff",
              "IPY_MODEL_628f15253500425883c9352a8e470e9f"
            ],
            "layout": "IPY_MODEL_9df6a98da22b42fca95a6e775628a80e"
          }
        },
        "eec53441e3f74a4b93c678f4f4279629": {
          "model_module": "@jupyter-widgets/controls",
          "model_name": "HTMLModel",
          "model_module_version": "1.5.0",
          "state": {
            "_dom_classes": [],
            "_model_module": "@jupyter-widgets/controls",
            "_model_module_version": "1.5.0",
            "_model_name": "HTMLModel",
            "_view_count": null,
            "_view_module": "@jupyter-widgets/controls",
            "_view_module_version": "1.5.0",
            "_view_name": "HTMLView",
            "description": "",
            "description_tooltip": null,
            "layout": "IPY_MODEL_a8b10947709d4a6784f8036c3bd691fb",
            "placeholder": "​",
            "style": "IPY_MODEL_e34b4b41f79748e1a638b934e148bc93",
            "value": "Generating unsupervised examples...: 100%"
          }
        },
        "42bb21e415e849b185126127318b47ff": {
          "model_module": "@jupyter-widgets/controls",
          "model_name": "FloatProgressModel",
          "model_module_version": "1.5.0",
          "state": {
            "_dom_classes": [],
            "_model_module": "@jupyter-widgets/controls",
            "_model_module_version": "1.5.0",
            "_model_name": "FloatProgressModel",
            "_view_count": null,
            "_view_module": "@jupyter-widgets/controls",
            "_view_module_version": "1.5.0",
            "_view_name": "ProgressView",
            "bar_style": "",
            "description": "",
            "description_tooltip": null,
            "layout": "IPY_MODEL_fac90e6346cd4636b1efdceec8b18852",
            "max": 50000,
            "min": 0,
            "orientation": "horizontal",
            "style": "IPY_MODEL_9c51fe8951754ce39f7bd050fb04f699",
            "value": 50000
          }
        },
        "628f15253500425883c9352a8e470e9f": {
          "model_module": "@jupyter-widgets/controls",
          "model_name": "HTMLModel",
          "model_module_version": "1.5.0",
          "state": {
            "_dom_classes": [],
            "_model_module": "@jupyter-widgets/controls",
            "_model_module_version": "1.5.0",
            "_model_name": "HTMLModel",
            "_view_count": null,
            "_view_module": "@jupyter-widgets/controls",
            "_view_module_version": "1.5.0",
            "_view_name": "HTMLView",
            "description": "",
            "description_tooltip": null,
            "layout": "IPY_MODEL_d60dc1bcd6ed4262ab9e339aeec13dde",
            "placeholder": "​",
            "style": "IPY_MODEL_ad420ebf8d014c42b82e8f1ec916a393",
            "value": " 49967/50000 [00:19&lt;00:00, 2908.38 examples/s]"
          }
        },
        "9df6a98da22b42fca95a6e775628a80e": {
          "model_module": "@jupyter-widgets/base",
          "model_name": "LayoutModel",
          "model_module_version": "1.2.0",
          "state": {
            "_model_module": "@jupyter-widgets/base",
            "_model_module_version": "1.2.0",
            "_model_name": "LayoutModel",
            "_view_count": null,
            "_view_module": "@jupyter-widgets/base",
            "_view_module_version": "1.2.0",
            "_view_name": "LayoutView",
            "align_content": null,
            "align_items": null,
            "align_self": null,
            "border": null,
            "bottom": null,
            "display": null,
            "flex": null,
            "flex_flow": null,
            "grid_area": null,
            "grid_auto_columns": null,
            "grid_auto_flow": null,
            "grid_auto_rows": null,
            "grid_column": null,
            "grid_gap": null,
            "grid_row": null,
            "grid_template_areas": null,
            "grid_template_columns": null,
            "grid_template_rows": null,
            "height": null,
            "justify_content": null,
            "justify_items": null,
            "left": null,
            "margin": null,
            "max_height": null,
            "max_width": null,
            "min_height": null,
            "min_width": null,
            "object_fit": null,
            "object_position": null,
            "order": null,
            "overflow": null,
            "overflow_x": null,
            "overflow_y": null,
            "padding": null,
            "right": null,
            "top": null,
            "visibility": "hidden",
            "width": null
          }
        },
        "a8b10947709d4a6784f8036c3bd691fb": {
          "model_module": "@jupyter-widgets/base",
          "model_name": "LayoutModel",
          "model_module_version": "1.2.0",
          "state": {
            "_model_module": "@jupyter-widgets/base",
            "_model_module_version": "1.2.0",
            "_model_name": "LayoutModel",
            "_view_count": null,
            "_view_module": "@jupyter-widgets/base",
            "_view_module_version": "1.2.0",
            "_view_name": "LayoutView",
            "align_content": null,
            "align_items": null,
            "align_self": null,
            "border": null,
            "bottom": null,
            "display": null,
            "flex": null,
            "flex_flow": null,
            "grid_area": null,
            "grid_auto_columns": null,
            "grid_auto_flow": null,
            "grid_auto_rows": null,
            "grid_column": null,
            "grid_gap": null,
            "grid_row": null,
            "grid_template_areas": null,
            "grid_template_columns": null,
            "grid_template_rows": null,
            "height": null,
            "justify_content": null,
            "justify_items": null,
            "left": null,
            "margin": null,
            "max_height": null,
            "max_width": null,
            "min_height": null,
            "min_width": null,
            "object_fit": null,
            "object_position": null,
            "order": null,
            "overflow": null,
            "overflow_x": null,
            "overflow_y": null,
            "padding": null,
            "right": null,
            "top": null,
            "visibility": null,
            "width": null
          }
        },
        "e34b4b41f79748e1a638b934e148bc93": {
          "model_module": "@jupyter-widgets/controls",
          "model_name": "DescriptionStyleModel",
          "model_module_version": "1.5.0",
          "state": {
            "_model_module": "@jupyter-widgets/controls",
            "_model_module_version": "1.5.0",
            "_model_name": "DescriptionStyleModel",
            "_view_count": null,
            "_view_module": "@jupyter-widgets/base",
            "_view_module_version": "1.2.0",
            "_view_name": "StyleView",
            "description_width": ""
          }
        },
        "fac90e6346cd4636b1efdceec8b18852": {
          "model_module": "@jupyter-widgets/base",
          "model_name": "LayoutModel",
          "model_module_version": "1.2.0",
          "state": {
            "_model_module": "@jupyter-widgets/base",
            "_model_module_version": "1.2.0",
            "_model_name": "LayoutModel",
            "_view_count": null,
            "_view_module": "@jupyter-widgets/base",
            "_view_module_version": "1.2.0",
            "_view_name": "LayoutView",
            "align_content": null,
            "align_items": null,
            "align_self": null,
            "border": null,
            "bottom": null,
            "display": null,
            "flex": null,
            "flex_flow": null,
            "grid_area": null,
            "grid_auto_columns": null,
            "grid_auto_flow": null,
            "grid_auto_rows": null,
            "grid_column": null,
            "grid_gap": null,
            "grid_row": null,
            "grid_template_areas": null,
            "grid_template_columns": null,
            "grid_template_rows": null,
            "height": null,
            "justify_content": null,
            "justify_items": null,
            "left": null,
            "margin": null,
            "max_height": null,
            "max_width": null,
            "min_height": null,
            "min_width": null,
            "object_fit": null,
            "object_position": null,
            "order": null,
            "overflow": null,
            "overflow_x": null,
            "overflow_y": null,
            "padding": null,
            "right": null,
            "top": null,
            "visibility": null,
            "width": null
          }
        },
        "9c51fe8951754ce39f7bd050fb04f699": {
          "model_module": "@jupyter-widgets/controls",
          "model_name": "ProgressStyleModel",
          "model_module_version": "1.5.0",
          "state": {
            "_model_module": "@jupyter-widgets/controls",
            "_model_module_version": "1.5.0",
            "_model_name": "ProgressStyleModel",
            "_view_count": null,
            "_view_module": "@jupyter-widgets/base",
            "_view_module_version": "1.2.0",
            "_view_name": "StyleView",
            "bar_color": null,
            "description_width": ""
          }
        },
        "d60dc1bcd6ed4262ab9e339aeec13dde": {
          "model_module": "@jupyter-widgets/base",
          "model_name": "LayoutModel",
          "model_module_version": "1.2.0",
          "state": {
            "_model_module": "@jupyter-widgets/base",
            "_model_module_version": "1.2.0",
            "_model_name": "LayoutModel",
            "_view_count": null,
            "_view_module": "@jupyter-widgets/base",
            "_view_module_version": "1.2.0",
            "_view_name": "LayoutView",
            "align_content": null,
            "align_items": null,
            "align_self": null,
            "border": null,
            "bottom": null,
            "display": null,
            "flex": null,
            "flex_flow": null,
            "grid_area": null,
            "grid_auto_columns": null,
            "grid_auto_flow": null,
            "grid_auto_rows": null,
            "grid_column": null,
            "grid_gap": null,
            "grid_row": null,
            "grid_template_areas": null,
            "grid_template_columns": null,
            "grid_template_rows": null,
            "height": null,
            "justify_content": null,
            "justify_items": null,
            "left": null,
            "margin": null,
            "max_height": null,
            "max_width": null,
            "min_height": null,
            "min_width": null,
            "object_fit": null,
            "object_position": null,
            "order": null,
            "overflow": null,
            "overflow_x": null,
            "overflow_y": null,
            "padding": null,
            "right": null,
            "top": null,
            "visibility": null,
            "width": null
          }
        },
        "ad420ebf8d014c42b82e8f1ec916a393": {
          "model_module": "@jupyter-widgets/controls",
          "model_name": "DescriptionStyleModel",
          "model_module_version": "1.5.0",
          "state": {
            "_model_module": "@jupyter-widgets/controls",
            "_model_module_version": "1.5.0",
            "_model_name": "DescriptionStyleModel",
            "_view_count": null,
            "_view_module": "@jupyter-widgets/base",
            "_view_module_version": "1.2.0",
            "_view_name": "StyleView",
            "description_width": ""
          }
        },
        "71cbe8b799c4424dad7c29f626ec7018": {
          "model_module": "@jupyter-widgets/controls",
          "model_name": "HBoxModel",
          "model_module_version": "1.5.0",
          "state": {
            "_dom_classes": [],
            "_model_module": "@jupyter-widgets/controls",
            "_model_module_version": "1.5.0",
            "_model_name": "HBoxModel",
            "_view_count": null,
            "_view_module": "@jupyter-widgets/controls",
            "_view_module_version": "1.5.0",
            "_view_name": "HBoxView",
            "box_style": "",
            "children": [
              "IPY_MODEL_183a7270c7af486f93f16fbf4fbef440",
              "IPY_MODEL_cc9b26829cbf4d1b87b989908aa8a17d",
              "IPY_MODEL_bd1db6edcf6d454b955476a9af5e68dc"
            ],
            "layout": "IPY_MODEL_5498edb5cfbb4da79f24ea22e2aa6d1c"
          }
        },
        "183a7270c7af486f93f16fbf4fbef440": {
          "model_module": "@jupyter-widgets/controls",
          "model_name": "HTMLModel",
          "model_module_version": "1.5.0",
          "state": {
            "_dom_classes": [],
            "_model_module": "@jupyter-widgets/controls",
            "_model_module_version": "1.5.0",
            "_model_name": "HTMLModel",
            "_view_count": null,
            "_view_module": "@jupyter-widgets/controls",
            "_view_module_version": "1.5.0",
            "_view_name": "HTMLView",
            "description": "",
            "description_tooltip": null,
            "layout": "IPY_MODEL_7312b5a8252a4f06aed61d806820f6b5",
            "placeholder": "​",
            "style": "IPY_MODEL_0cdb4914fa81415aa9ace09367f86678",
            "value": "Shuffling /root/tensorflow_datasets/imdb_reviews/plain_text/1.0.0.incompleteA53K9O/imdb_reviews-unsupervised.tfrecord*...:  86%"
          }
        },
        "cc9b26829cbf4d1b87b989908aa8a17d": {
          "model_module": "@jupyter-widgets/controls",
          "model_name": "FloatProgressModel",
          "model_module_version": "1.5.0",
          "state": {
            "_dom_classes": [],
            "_model_module": "@jupyter-widgets/controls",
            "_model_module_version": "1.5.0",
            "_model_name": "FloatProgressModel",
            "_view_count": null,
            "_view_module": "@jupyter-widgets/controls",
            "_view_module_version": "1.5.0",
            "_view_name": "ProgressView",
            "bar_style": "",
            "description": "",
            "description_tooltip": null,
            "layout": "IPY_MODEL_f8acd82ce800443cbad84d95fb6b2cb8",
            "max": 50000,
            "min": 0,
            "orientation": "horizontal",
            "style": "IPY_MODEL_566de398cf3247c9a47d8f2cf8acaba3",
            "value": 50000
          }
        },
        "bd1db6edcf6d454b955476a9af5e68dc": {
          "model_module": "@jupyter-widgets/controls",
          "model_name": "HTMLModel",
          "model_module_version": "1.5.0",
          "state": {
            "_dom_classes": [],
            "_model_module": "@jupyter-widgets/controls",
            "_model_module_version": "1.5.0",
            "_model_name": "HTMLModel",
            "_view_count": null,
            "_view_module": "@jupyter-widgets/controls",
            "_view_module_version": "1.5.0",
            "_view_name": "HTMLView",
            "description": "",
            "description_tooltip": null,
            "layout": "IPY_MODEL_91c38d1c782e4ca68e28ae247d0e7811",
            "placeholder": "​",
            "style": "IPY_MODEL_e4efc424b5cd4d1f890ab6f72c97152e",
            "value": " 43139/50000 [00:00&lt;00:00, 125081.92 examples/s]"
          }
        },
        "5498edb5cfbb4da79f24ea22e2aa6d1c": {
          "model_module": "@jupyter-widgets/base",
          "model_name": "LayoutModel",
          "model_module_version": "1.2.0",
          "state": {
            "_model_module": "@jupyter-widgets/base",
            "_model_module_version": "1.2.0",
            "_model_name": "LayoutModel",
            "_view_count": null,
            "_view_module": "@jupyter-widgets/base",
            "_view_module_version": "1.2.0",
            "_view_name": "LayoutView",
            "align_content": null,
            "align_items": null,
            "align_self": null,
            "border": null,
            "bottom": null,
            "display": null,
            "flex": null,
            "flex_flow": null,
            "grid_area": null,
            "grid_auto_columns": null,
            "grid_auto_flow": null,
            "grid_auto_rows": null,
            "grid_column": null,
            "grid_gap": null,
            "grid_row": null,
            "grid_template_areas": null,
            "grid_template_columns": null,
            "grid_template_rows": null,
            "height": null,
            "justify_content": null,
            "justify_items": null,
            "left": null,
            "margin": null,
            "max_height": null,
            "max_width": null,
            "min_height": null,
            "min_width": null,
            "object_fit": null,
            "object_position": null,
            "order": null,
            "overflow": null,
            "overflow_x": null,
            "overflow_y": null,
            "padding": null,
            "right": null,
            "top": null,
            "visibility": "hidden",
            "width": null
          }
        },
        "7312b5a8252a4f06aed61d806820f6b5": {
          "model_module": "@jupyter-widgets/base",
          "model_name": "LayoutModel",
          "model_module_version": "1.2.0",
          "state": {
            "_model_module": "@jupyter-widgets/base",
            "_model_module_version": "1.2.0",
            "_model_name": "LayoutModel",
            "_view_count": null,
            "_view_module": "@jupyter-widgets/base",
            "_view_module_version": "1.2.0",
            "_view_name": "LayoutView",
            "align_content": null,
            "align_items": null,
            "align_self": null,
            "border": null,
            "bottom": null,
            "display": null,
            "flex": null,
            "flex_flow": null,
            "grid_area": null,
            "grid_auto_columns": null,
            "grid_auto_flow": null,
            "grid_auto_rows": null,
            "grid_column": null,
            "grid_gap": null,
            "grid_row": null,
            "grid_template_areas": null,
            "grid_template_columns": null,
            "grid_template_rows": null,
            "height": null,
            "justify_content": null,
            "justify_items": null,
            "left": null,
            "margin": null,
            "max_height": null,
            "max_width": null,
            "min_height": null,
            "min_width": null,
            "object_fit": null,
            "object_position": null,
            "order": null,
            "overflow": null,
            "overflow_x": null,
            "overflow_y": null,
            "padding": null,
            "right": null,
            "top": null,
            "visibility": null,
            "width": null
          }
        },
        "0cdb4914fa81415aa9ace09367f86678": {
          "model_module": "@jupyter-widgets/controls",
          "model_name": "DescriptionStyleModel",
          "model_module_version": "1.5.0",
          "state": {
            "_model_module": "@jupyter-widgets/controls",
            "_model_module_version": "1.5.0",
            "_model_name": "DescriptionStyleModel",
            "_view_count": null,
            "_view_module": "@jupyter-widgets/base",
            "_view_module_version": "1.2.0",
            "_view_name": "StyleView",
            "description_width": ""
          }
        },
        "f8acd82ce800443cbad84d95fb6b2cb8": {
          "model_module": "@jupyter-widgets/base",
          "model_name": "LayoutModel",
          "model_module_version": "1.2.0",
          "state": {
            "_model_module": "@jupyter-widgets/base",
            "_model_module_version": "1.2.0",
            "_model_name": "LayoutModel",
            "_view_count": null,
            "_view_module": "@jupyter-widgets/base",
            "_view_module_version": "1.2.0",
            "_view_name": "LayoutView",
            "align_content": null,
            "align_items": null,
            "align_self": null,
            "border": null,
            "bottom": null,
            "display": null,
            "flex": null,
            "flex_flow": null,
            "grid_area": null,
            "grid_auto_columns": null,
            "grid_auto_flow": null,
            "grid_auto_rows": null,
            "grid_column": null,
            "grid_gap": null,
            "grid_row": null,
            "grid_template_areas": null,
            "grid_template_columns": null,
            "grid_template_rows": null,
            "height": null,
            "justify_content": null,
            "justify_items": null,
            "left": null,
            "margin": null,
            "max_height": null,
            "max_width": null,
            "min_height": null,
            "min_width": null,
            "object_fit": null,
            "object_position": null,
            "order": null,
            "overflow": null,
            "overflow_x": null,
            "overflow_y": null,
            "padding": null,
            "right": null,
            "top": null,
            "visibility": null,
            "width": null
          }
        },
        "566de398cf3247c9a47d8f2cf8acaba3": {
          "model_module": "@jupyter-widgets/controls",
          "model_name": "ProgressStyleModel",
          "model_module_version": "1.5.0",
          "state": {
            "_model_module": "@jupyter-widgets/controls",
            "_model_module_version": "1.5.0",
            "_model_name": "ProgressStyleModel",
            "_view_count": null,
            "_view_module": "@jupyter-widgets/base",
            "_view_module_version": "1.2.0",
            "_view_name": "StyleView",
            "bar_color": null,
            "description_width": ""
          }
        },
        "91c38d1c782e4ca68e28ae247d0e7811": {
          "model_module": "@jupyter-widgets/base",
          "model_name": "LayoutModel",
          "model_module_version": "1.2.0",
          "state": {
            "_model_module": "@jupyter-widgets/base",
            "_model_module_version": "1.2.0",
            "_model_name": "LayoutModel",
            "_view_count": null,
            "_view_module": "@jupyter-widgets/base",
            "_view_module_version": "1.2.0",
            "_view_name": "LayoutView",
            "align_content": null,
            "align_items": null,
            "align_self": null,
            "border": null,
            "bottom": null,
            "display": null,
            "flex": null,
            "flex_flow": null,
            "grid_area": null,
            "grid_auto_columns": null,
            "grid_auto_flow": null,
            "grid_auto_rows": null,
            "grid_column": null,
            "grid_gap": null,
            "grid_row": null,
            "grid_template_areas": null,
            "grid_template_columns": null,
            "grid_template_rows": null,
            "height": null,
            "justify_content": null,
            "justify_items": null,
            "left": null,
            "margin": null,
            "max_height": null,
            "max_width": null,
            "min_height": null,
            "min_width": null,
            "object_fit": null,
            "object_position": null,
            "order": null,
            "overflow": null,
            "overflow_x": null,
            "overflow_y": null,
            "padding": null,
            "right": null,
            "top": null,
            "visibility": null,
            "width": null
          }
        },
        "e4efc424b5cd4d1f890ab6f72c97152e": {
          "model_module": "@jupyter-widgets/controls",
          "model_name": "DescriptionStyleModel",
          "model_module_version": "1.5.0",
          "state": {
            "_model_module": "@jupyter-widgets/controls",
            "_model_module_version": "1.5.0",
            "_model_name": "DescriptionStyleModel",
            "_view_count": null,
            "_view_module": "@jupyter-widgets/base",
            "_view_module_version": "1.2.0",
            "_view_name": "StyleView",
            "description_width": ""
          }
        }
      }
    }
  },
  "nbformat": 4,
  "nbformat_minor": 0
}